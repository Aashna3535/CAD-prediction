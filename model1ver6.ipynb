{
 "cells": [
  {
   "cell_type": "code",
   "execution_count": 1,
   "metadata": {},
   "outputs": [
    {
     "name": "stdout",
     "output_type": "stream",
     "text": [
      "     Atypical  Age  Sex  Obesity        BMI  DM  FBS  Typical Chest Pain  \\\n",
      "0           0   53    0        1  29.387755   0   90                   0   \n",
      "1           0   67    1        1  28.398718   0   80                   1   \n",
      "2           0   54    0        0  20.077335   0   85                   1   \n",
      "3           0   66    1        1  26.838648   0   78                   0   \n",
      "4           0   50    1        1  37.165193   0  104                   0   \n",
      "..        ...  ...  ...      ...        ...  ..  ...                 ...   \n",
      "298         0   58    0        1  29.761905   0   92                   1   \n",
      "299         1   55    1        1  27.700831   0   86                   0   \n",
      "300         0   48    1        1  30.078125   0   83                   0   \n",
      "301         1   57    1        1  35.599858   1   96                   0   \n",
      "302         0   56    1        1  29.411765   0   78                   1   \n",
      "\n",
      "     Weight  Length  Current Smoker  EX-Smoker  DLP   BP   CR  BUN  \\\n",
      "0        90     175               1          0    1  110  0.7    8   \n",
      "1        70     157               0          0    0  140  1.0   30   \n",
      "2        54     164               1          0    0  100  1.0   17   \n",
      "3        67     158               0          0    0  100  1.2   30   \n",
      "4        87     153               0          0    0  110  1.0   16   \n",
      "..      ...     ...             ...        ...  ...  ...  ...  ...   \n",
      "298      84     168               0          0    0  100  1.0   13   \n",
      "299      64     152               0          0    0  100  0.9   23   \n",
      "300      77     160               0          0    0  130  1.0   13   \n",
      "301      90     159               0          0    0  100  1.0   14   \n",
      "302      85     170               1          0    0  120  0.7   16   \n",
      "\n",
      "     Nonanginal  HTN  Cath  \n",
      "0             0    1     1  \n",
      "1             0    1     1  \n",
      "2             0    0     1  \n",
      "3             1    1     0  \n",
      "4             0    1     0  \n",
      "..          ...  ...   ...  \n",
      "298           0    0     1  \n",
      "299           0    0     0  \n",
      "300           1    1     0  \n",
      "301           0    0     0  \n",
      "302           0    1     1  \n",
      "\n",
      "[303 rows x 19 columns]\n"
     ]
    }
   ],
   "source": [
    "#Stage 1: Bayesian (acc = 90%)\n",
    "# prob = 30%\n",
    "# 48 records out of 73(ECG + data) is passed to stage 2 : XGBoost , here 25 records discarded by bayesian in which 0 was having CAD\n",
    "# acc = 93.7% of XGBoost\n",
    "# 1 FN \n",
    "\n",
    "import pandas as pd\n",
    "import numpy as np\n",
    "from imblearn import under_sampling, over_sampling\n",
    "from imblearn.over_sampling import SMOTE\n",
    "from sklearn.model_selection import train_test_split\n",
    "import xgboost as xgb\n",
    "from sklearn.metrics import recall_score\n",
    "data = pd.read_csv(\"F:/ME/Sem 3/demo4.csv\") \n",
    "print(data)"
   ]
  },
  {
   "cell_type": "code",
   "execution_count": 2,
   "metadata": {},
   "outputs": [],
   "source": [
    "from sklearn.model_selection import train_test_split\n",
    "x=data.iloc[:,:-1]\n",
    "y=data.iloc[:,-1]"
   ]
  },
  {
   "cell_type": "code",
   "execution_count": 3,
   "metadata": {},
   "outputs": [],
   "source": [
    "x_train, x_test, y_train, y_test = train_test_split(x,y,train_size=0.82,random_state=23)"
   ]
  },
  {
   "cell_type": "code",
   "execution_count": 4,
   "metadata": {},
   "outputs": [],
   "source": [
    "def resamplingDataPrep(X_train, y_train, target_var): \n",
    "    # concatenate our training data back together\n",
    "    resampling = X_train.copy()\n",
    "    resampling[target_var] = y_train.values\n",
    "    # separate minority and majority classes\n",
    "    majority_class = resampling[resampling[target_var]==0]\n",
    "    minority_class = resampling[resampling[target_var]==1]\n",
    "    # Get a class count to understand the class imbalance.\n",
    "    print('majority_class: '+ str(len(majority_class)))\n",
    "    print('minority_class: '+ str(len(minority_class)))\n",
    "    return majority_class, minority_class"
   ]
  },
  {
   "cell_type": "code",
   "execution_count": 5,
   "metadata": {},
   "outputs": [],
   "source": [
    "def upsample_SMOTE(X_train, y_train, ratio=1.0):\n",
    "    \"\"\"Upsamples minority class using SMOTE.\n",
    "    Ratio argument is the percentage of the upsampled minority class in relation\n",
    "    to the majority class. Default is 1.0\n",
    "    \"\"\"\n",
    "    sm = SMOTE(random_state=23, sampling_strategy=ratio)\n",
    "    X_train_sm, y_train_sm = sm.fit_resample(X_train, y_train)\n",
    "    print(len(X_train_sm), len(y_train_sm))\n",
    "    return X_train_sm, y_train_sm"
   ]
  },
  {
   "cell_type": "code",
   "execution_count": 6,
   "metadata": {},
   "outputs": [
    {
     "name": "stdout",
     "output_type": "stream",
     "text": [
      "majority_class: 73\n",
      "minority_class: 175\n"
     ]
    },
    {
     "data": {
      "text/plain": [
       "(     Atypical  Age  Sex  Obesity        BMI  DM  FBS  Typical Chest Pain  \\\n",
       " 296         1   42    0        0  23.711845   0  202                   0   \n",
       " 64          0   55    0        1  29.411765   0   90                   0   \n",
       " 193         1   64    1        1  31.611773   1  300                   0   \n",
       " 8           0   58    1        1  31.615793   0   69                   0   \n",
       " 16          0   41    0        0  23.808690   0   65                   0   \n",
       " ..        ...  ...  ...      ...        ...  ..  ...                 ...   \n",
       " 48          0   53    1        1  25.721032   0   84                   0   \n",
       " 293         1   59    0        1  31.248764   0   90                   0   \n",
       " 192         1   54    0        0  24.910767   0   94                   0   \n",
       " 194         1   46    1        1  28.515625   0   94                   0   \n",
       " 153         1   63    1        1  25.000000   1  156                   0   \n",
       " \n",
       "      Weight  Length  Current Smoker  EX-Smoker  DLP   BP   CR  BUN  \\\n",
       " 296      63     163               0          0    0  120  1.0   19   \n",
       " 64       85     170               1          0    0  110  0.9   15   \n",
       " 193      74     153               0          0    1  110  1.1   19   \n",
       " 8        84     163               0          0    0   90  0.6   15   \n",
       " 16       68     169               1          0    0  130  1.1   14   \n",
       " ..      ...     ...             ...        ...  ...  ...  ...  ...   \n",
       " 48       61     154               0          0    0  135  0.8   15   \n",
       " 293      79     159               0          0    0  100  1.1   14   \n",
       " 192      67     164               0          0    0  110  1.0   22   \n",
       " 194      73     160               0          0    1  130  1.1   15   \n",
       " 153      64     160               0          0    1  140  1.2   18   \n",
       " \n",
       "      Nonanginal  HTN  Cath  \n",
       " 296           0    0     0  \n",
       " 64            1    0     0  \n",
       " 193           0    0     0  \n",
       " 8             1    0     0  \n",
       " 16            0    0     0  \n",
       " ..          ...  ...   ...  \n",
       " 48            0    0     0  \n",
       " 293           0    0     0  \n",
       " 192           0    0     0  \n",
       " 194           0    0     0  \n",
       " 153           0    1     0  \n",
       " \n",
       " [73 rows x 19 columns],\n",
       "      Atypical  Age  Sex  Obesity        BMI  DM  FBS  Typical Chest Pain  \\\n",
       " 180         1   62    0        1  32.283058   0   90                   0   \n",
       " 59          0   56    1        0  21.093750   0   97                   1   \n",
       " 19          0   65    1        1  32.000000   1  227                   1   \n",
       " 45          0   51    0        0  24.622961   0   80                   1   \n",
       " 131         0   55    0        0  24.021276   1  174                   1   \n",
       " ..        ...  ...  ...      ...        ...  ..  ...                 ...   \n",
       " 237         0   47    0        1  25.209201   0   84                   1   \n",
       " 31          0   52    0        0  22.839506   1  225                   1   \n",
       " 40          0   76    0        1  25.725517   0   90                   0   \n",
       " 230         0   75    0        0  24.441802   0   79                   1   \n",
       " 83          0   57    1        1  33.782262   0  145                   0   \n",
       " \n",
       "      Weight  Length  Current Smoker  EX-Smoker  DLP   BP   CR  BUN  \\\n",
       " 180     100     176               0          0    0  120  1.1   14   \n",
       " 59       54     160               0          0    0  150  0.8   10   \n",
       " 19       72     150               0          0    1  150  1.0   18   \n",
       " 45       72     171               0          0    0  110  0.8   10   \n",
       " 131      84     187               0          0    0  130  0.8   16   \n",
       " ..      ...     ...             ...        ...  ...  ...  ...  ...   \n",
       " 237      72     169               1          0    0  100  1.0   18   \n",
       " 31       74     180               0          0    1  130  0.9   22   \n",
       " 40       89     186               1          0    0  160  0.8   14   \n",
       " 230      74     174               0          0    1  140  1.4   17   \n",
       " 83       75     149               0          0    0  130  0.9   21   \n",
       " \n",
       "      Nonanginal  HTN  Cath  \n",
       " 180           0    0     1  \n",
       " 59            0    1     1  \n",
       " 19            0    1     1  \n",
       " 45            0    0     1  \n",
       " 131           0    0     1  \n",
       " ..          ...  ...   ...  \n",
       " 237           0    0     1  \n",
       " 31            0    1     1  \n",
       " 40            0    1     1  \n",
       " 230           0    1     1  \n",
       " 83            0    1     1  \n",
       " \n",
       " [175 rows x 19 columns])"
      ]
     },
     "execution_count": 6,
     "metadata": {},
     "output_type": "execute_result"
    }
   ],
   "source": [
    "resamplingDataPrep(x_train, y_train, 'Cath')"
   ]
  },
  {
   "cell_type": "code",
   "execution_count": 7,
   "metadata": {},
   "outputs": [
    {
     "name": "stdout",
     "output_type": "stream",
     "text": [
      "350 350\n"
     ]
    }
   ],
   "source": [
    "xx, yy = upsample_SMOTE(x_train,y_train)"
   ]
  },
  {
   "cell_type": "code",
   "execution_count": 8,
   "metadata": {},
   "outputs": [
    {
     "name": "stdout",
     "output_type": "stream",
     "text": [
      "     Atypical  Age  Sex  Obesity        BMI  DM  FBS  Typical Chest Pain  \\\n",
      "0           1   62    0        1  32.283058   0   90                   0   \n",
      "1           0   56    1        0  21.093750   0   97                   1   \n",
      "2           0   65    1        1  32.000000   1  227                   1   \n",
      "3           1   42    0        0  23.711845   0  202                   0   \n",
      "4           0   55    0        1  29.411765   0   90                   0   \n",
      "..        ...  ...  ...      ...        ...  ..  ...                 ...   \n",
      "345         0   64    0        1  31.227103   0   92                   0   \n",
      "346         0   55    0        0  24.864239   0   78                   0   \n",
      "347         0   50    0        0  25.135547   0   88                   0   \n",
      "348         1   48    1        0  26.354425   0   94                   0   \n",
      "349         0   41    0        0  32.452126   0   90                   0   \n",
      "\n",
      "     Weight  Length  Current Smoker  EX-Smoker  DLP   BP        CR  BUN  \\\n",
      "0       100     176               0          0    0  120  1.100000   14   \n",
      "1        54     160               0          0    0  150  0.800000   10   \n",
      "2        72     150               0          0    1  150  1.000000   18   \n",
      "3        63     163               0          0    0  120  1.000000   19   \n",
      "4        85     170               1          0    0  110  0.900000   15   \n",
      "..      ...     ...             ...        ...  ...  ...       ...  ...   \n",
      "345      76     156               0          0    0  106  0.892272   11   \n",
      "346      66     163               0          0    1  120  0.932493   18   \n",
      "347      77     175               0          0    0  132  1.248334   13   \n",
      "348      66     158               0          0    0  124  1.100000   18   \n",
      "349      73     150               0          0    0  175  0.820626   10   \n",
      "\n",
      "     Nonanginal  HTN  \n",
      "0             0    0  \n",
      "1             0    1  \n",
      "2             0    1  \n",
      "3             0    0  \n",
      "4             1    0  \n",
      "..          ...  ...  \n",
      "345           0    0  \n",
      "346           0    0  \n",
      "347           0    1  \n",
      "348           0    0  \n",
      "349           0    1  \n",
      "\n",
      "[350 rows x 18 columns]\n",
      "0      1\n",
      "1      1\n",
      "2      1\n",
      "3      0\n",
      "4      0\n",
      "      ..\n",
      "345    0\n",
      "346    0\n",
      "347    0\n",
      "348    0\n",
      "349    0\n",
      "Name: Cath, Length: 350, dtype: int64\n",
      "<class 'pandas.core.frame.DataFrame'>\n",
      "<class 'pandas.core.series.Series'>\n"
     ]
    }
   ],
   "source": [
    "print(xx)\n",
    "print(yy)\n",
    "print(type(xx))\n",
    "print(type(yy))"
   ]
  },
  {
   "cell_type": "code",
   "execution_count": 9,
   "metadata": {},
   "outputs": [],
   "source": [
    "df_col = pd.concat([xx,yy], axis=1)"
   ]
  },
  {
   "cell_type": "code",
   "execution_count": 10,
   "metadata": {},
   "outputs": [
    {
     "name": "stdout",
     "output_type": "stream",
     "text": [
      "     Atypical  Age  Sex  Obesity        BMI  DM  FBS  Typical Chest Pain  \\\n",
      "0           1   62    0        1  32.283058   0   90                   0   \n",
      "1           0   56    1        0  21.093750   0   97                   1   \n",
      "2           0   65    1        1  32.000000   1  227                   1   \n",
      "3           1   42    0        0  23.711845   0  202                   0   \n",
      "4           0   55    0        1  29.411765   0   90                   0   \n",
      "..        ...  ...  ...      ...        ...  ..  ...                 ...   \n",
      "345         0   64    0        1  31.227103   0   92                   0   \n",
      "346         0   55    0        0  24.864239   0   78                   0   \n",
      "347         0   50    0        0  25.135547   0   88                   0   \n",
      "348         1   48    1        0  26.354425   0   94                   0   \n",
      "349         0   41    0        0  32.452126   0   90                   0   \n",
      "\n",
      "     Weight  Length  Current Smoker  EX-Smoker  DLP   BP        CR  BUN  \\\n",
      "0       100     176               0          0    0  120  1.100000   14   \n",
      "1        54     160               0          0    0  150  0.800000   10   \n",
      "2        72     150               0          0    1  150  1.000000   18   \n",
      "3        63     163               0          0    0  120  1.000000   19   \n",
      "4        85     170               1          0    0  110  0.900000   15   \n",
      "..      ...     ...             ...        ...  ...  ...       ...  ...   \n",
      "345      76     156               0          0    0  106  0.892272   11   \n",
      "346      66     163               0          0    1  120  0.932493   18   \n",
      "347      77     175               0          0    0  132  1.248334   13   \n",
      "348      66     158               0          0    0  124  1.100000   18   \n",
      "349      73     150               0          0    0  175  0.820626   10   \n",
      "\n",
      "     Nonanginal  HTN  Cath  \n",
      "0             0    0     1  \n",
      "1             0    1     1  \n",
      "2             0    1     1  \n",
      "3             0    0     0  \n",
      "4             1    0     0  \n",
      "..          ...  ...   ...  \n",
      "345           0    0     0  \n",
      "346           0    0     0  \n",
      "347           0    1     0  \n",
      "348           0    0     0  \n",
      "349           0    1     0  \n",
      "\n",
      "[350 rows x 19 columns]\n"
     ]
    }
   ],
   "source": [
    "print(df_col)"
   ]
  },
  {
   "cell_type": "code",
   "execution_count": 11,
   "metadata": {},
   "outputs": [
    {
     "name": "stdout",
     "output_type": "stream",
     "text": [
      "     Atypical  Age  Sex  Obesity        BMI  DM  FBS  Typical Chest Pain  \\\n",
      "231         0   64    0        0  24.897060   1  219                   1   \n",
      "46          0   57    1        1  30.863007   0  106                   1   \n",
      "2           0   54    0        0  20.077335   0   85                   1   \n",
      "272         0   76    0        0  22.308150   0   96                   0   \n",
      "243         0   72    1        1  26.222685   0   89                   1   \n",
      "82          1   86    0        0  24.386526   1  270                   0   \n",
      "63          0   68    1        1  34.808750   1   96                   0   \n",
      "38          0   76    0        0  21.077195   1  230                   0   \n",
      "274         0   55    1        1  31.555556   1  256                   1   \n",
      "285         1   56    1        0  24.034610   0  104                   0   \n",
      "74          0   60    1        1  25.558846   1  191                   1   \n",
      "240         0   67    0        0  21.138856   1   94                   1   \n",
      "220         0   68    0        1  29.320988   0  111                   1   \n",
      "255         0   38    0        1  26.259585   0   97                   0   \n",
      "14          1   66    1        1  26.222685   1  213                   0   \n",
      "141         0   46    1        1  31.111111   1  144                   1   \n",
      "288         1   67    1        1  30.222222   0   98                   0   \n",
      "222         0   62    0        0  24.304618   1  180                   0   \n",
      "300         0   48    1        1  30.078125   0   83                   0   \n",
      "178         0   66    0        1  26.672763   0   94                   1   \n",
      "277         0   75    1        0  22.656250   0   87                   1   \n",
      "201         1   44    0        1  29.017447   1   96                   0   \n",
      "164         0   74    0        1  31.179138   0  117                   1   \n",
      "155         0   58    0        1  30.470522   0  100                   1   \n",
      "145         0   71    1        0  21.484375   1  130                   0   \n",
      "270         1   48    1        1  28.685145   0   83                   0   \n",
      "73          0   60    0        1  29.053288   0  104                   1   \n",
      "152         0   65    1        1  33.320518   0  103                   1   \n",
      "242         0   55    0        1  28.401111   0   94                   1   \n",
      "253         0   49    0        1  26.122449   0   91                   1   \n",
      "137         1   43    0        0  24.049344   1  168                   0   \n",
      "232         0   48    1        1  40.900658   1  212                   1   \n",
      "135         0   60    0        1  30.486685   0   91                   1   \n",
      "143         1   52    1        1  28.444444   0   92                   0   \n",
      "97          1   77    0        0  21.971336   0   98                   0   \n",
      "174         0   63    0        1  28.734694   1  142                   1   \n",
      "44          0   73    1        1  25.109569   1   62                   0   \n",
      "210         1   46    0        0  23.620288   0   77                   0   \n",
      "107         1   75    0        1  27.120316   0   90                   0   \n",
      "281         1   71    1        1  28.353057   1  160                   0   \n",
      "10          0   58    0        1  26.573129   0  101                   1   \n",
      "226         0   77    0        1  28.393726   0   94                   1   \n",
      "216         1   64    0        1  34.894399   0   93                   0   \n",
      "123         1   76    0        1  25.315454   0  119                   0   \n",
      "132         0   49    0        1  26.989619   0   96                   1   \n",
      "175         0   53    0        1  34.086605   0  108                   1   \n",
      "179         1   49    0        1  26.004383   0   90                   0   \n",
      "95          0   48    0        0  21.887076   0  114                   1   \n",
      "122         1   70    0        1  27.776911   0  100                   0   \n",
      "183         0   66    1        1  33.163265   0   88                   1   \n",
      "75          0   49    1        1  25.402816   0  103                   1   \n",
      "256         1   52    0        1  28.228386   0   84                   0   \n",
      "200         0   57    1        1  31.887755   0  114                   1   \n",
      "92          0   59    0        1  26.573129   0  111                   1   \n",
      "28          0   80    1        0  23.283419   0   94                   1   \n",
      "\n",
      "     Weight  Length  Current Smoker  EX-Smoker  DLP   BP    CR  BUN  \\\n",
      "231      78     177               0          0    1  130  1.10   20   \n",
      "46       80     161               0          0    0  140  0.90   19   \n",
      "2        54     164               1          0    0  100  1.00   17   \n",
      "272      60     164               0          1    0  130  1.10   25   \n",
      "243      63     155               0          0    0  110  1.00   16   \n",
      "82       64     162               0          0    1  160  1.50   43   \n",
      "63       88     159               0          0    0  160  1.30   23   \n",
      "38       56     163               0          0    1  100  1.15   25   \n",
      "274      71     150               0          0    1  150  1.00   16   \n",
      "285      60     158               0          0    1  100  0.80   16   \n",
      "74       63     157               0          0    1  150  0.80   39   \n",
      "240      64     174               0          0    0  130  1.40   12   \n",
      "220      95     180               0          1    1  110  1.90   40   \n",
      "255      75     169               0          0    0  130  1.00   26   \n",
      "14       63     155               0          0    1  130  0.70   12   \n",
      "141      70     150               0          0    1  140  0.90   24   \n",
      "288      68     150               0          0    1  140  0.70   21   \n",
      "222      63     161               0          0    0  150  1.00   22   \n",
      "300      77     160               0          0    0  130  1.00   13   \n",
      "178      70     162               0          0    0  130  1.40   32   \n",
      "277      58     160               0          0    0  140  1.20   20   \n",
      "201      79     165               0          0    0  160  0.90   30   \n",
      "164      88     168               0          0    1  140  1.20   21   \n",
      "155      86     168               1          0    0  120  1.30   17   \n",
      "145      55     160               0          0    0  120  1.30   21   \n",
      "270      80     167               0          0    1  130  1.10   15   \n",
      "73       82     168               1          0    0  180  1.00   22   \n",
      "152      78     153               0          0    0  120  0.90   31   \n",
      "242      91     179               0          0    0  120  1.30   16   \n",
      "253      80     175               0          0    0  135  1.00   16   \n",
      "137      85     188               0          0    0  130  1.10   12   \n",
      "232      97     154               0          0    0  120  0.80   10   \n",
      "135      83     165               0          0    1  130  1.00   12   \n",
      "143      64     150               0          0    1   90  0.90   13   \n",
      "97       65     172               0          0    0  125  0.80   12   \n",
      "174      88     175               1          0    0  140  1.20   20   \n",
      "44       55     148               0          0    1  120  0.50   11   \n",
      "210      74     177               0          0    0  110  0.90   10   \n",
      "107      66     156               0          0    0  130  1.30   21   \n",
      "281      69     156               0          0    1  160  1.00   12   \n",
      "10       75     168               0          1    0  170  0.80   19   \n",
      "226      84     172               0          1    0  120  1.20   14   \n",
      "216      95     165               0          0    0  110  1.40   22   \n",
      "123      64     159               0          1    0  115  2.00   33   \n",
      "132      78     170               1          0    0  130  0.90   14   \n",
      "175     108     178               1          0    0  120  1.20   14   \n",
      "179      89     185               1          0    1  130  1.20   13   \n",
      "95       64     171               1          0    0  120  0.90   12   \n",
      "122      89     179               0          0    0  150  1.20   24   \n",
      "183      65     140               0          0    1  115  0.90   13   \n",
      "75       70     166               0          0    1  120  1.50   14   \n",
      "256      75     163               0          0    0  100  1.10    9   \n",
      "200      90     168               0          0    1  130  0.90   18   \n",
      "92       75     168               1          0    0  110  1.40   13   \n",
      "28       51     148               0          0    1  160  1.00   13   \n",
      "\n",
      "     Nonanginal  HTN  Cath  \n",
      "231           0    1     1  \n",
      "46            0    1     1  \n",
      "2             0    0     1  \n",
      "272           0    0     0  \n",
      "243           0    1     1  \n",
      "82            0    1     1  \n",
      "63            0    1     1  \n",
      "38            0    0     1  \n",
      "274           0    1     1  \n",
      "285           0    0     0  \n",
      "74            0    1     1  \n",
      "240           0    1     1  \n",
      "220           0    1     1  \n",
      "255           1    0     0  \n",
      "14            0    1     1  \n",
      "141           0    1     1  \n",
      "288           0    1     1  \n",
      "222           0    1     1  \n",
      "300           1    1     0  \n",
      "178           0    1     1  \n",
      "277           0    1     1  \n",
      "201           0    1     0  \n",
      "164           0    1     1  \n",
      "155           0    0     1  \n",
      "145           1    1     1  \n",
      "270           0    0     0  \n",
      "73            0    1     1  \n",
      "152           0    1     1  \n",
      "242           0    0     1  \n",
      "253           0    1     1  \n",
      "137           0    0     0  \n",
      "232           0    0     1  \n",
      "135           0    0     1  \n",
      "143           0    0     0  \n",
      "97            0    1     1  \n",
      "174           0    1     1  \n",
      "44            0    1     1  \n",
      "210           0    0     0  \n",
      "107           0    1     1  \n",
      "281           0    1     1  \n",
      "10            0    1     1  \n",
      "226           0    1     1  \n",
      "216           0    0     0  \n",
      "123           0    1     1  \n",
      "132           0    0     1  \n",
      "175           0    0     0  \n",
      "179           0    1     0  \n",
      "95            0    0     1  \n",
      "122           0    1     1  \n",
      "183           0    1     0  \n",
      "75            0    1     1  \n",
      "256           0    0     0  \n",
      "200           0    1     1  \n",
      "92            0    1     1  \n",
      "28            0    1     1  \n",
      "55\n"
     ]
    }
   ],
   "source": [
    "df_col2 = pd.concat([x_test,y_test], axis=1)\n",
    "print(df_col2)\n",
    "print(len(df_col2))"
   ]
  },
  {
   "cell_type": "code",
   "execution_count": 12,
   "metadata": {},
   "outputs": [
    {
     "name": "stdout",
     "output_type": "stream",
     "text": [
      "     Atypical  Age  Sex  Obesity        BMI  DM  FBS  Typical Chest Pain  \\\n",
      "0           1   62    0        1  32.283058   0   90                   0   \n",
      "1           0   56    1        0  21.093750   0   97                   1   \n",
      "2           0   65    1        1  32.000000   1  227                   1   \n",
      "3           1   42    0        0  23.711845   0  202                   0   \n",
      "4           0   55    0        1  29.411765   0   90                   0   \n",
      "..        ...  ...  ...      ...        ...  ..  ...                 ...   \n",
      "400         0   49    1        1  25.402816   0  103                   1   \n",
      "401         1   52    0        1  28.228386   0   84                   0   \n",
      "402         0   57    1        1  31.887755   0  114                   1   \n",
      "403         0   59    0        1  26.573129   0  111                   1   \n",
      "404         0   80    1        0  23.283419   0   94                   1   \n",
      "\n",
      "     Weight  Length  Current Smoker  EX-Smoker  DLP   BP   CR  BUN  \\\n",
      "0       100     176               0          0    0  120  1.1   14   \n",
      "1        54     160               0          0    0  150  0.8   10   \n",
      "2        72     150               0          0    1  150  1.0   18   \n",
      "3        63     163               0          0    0  120  1.0   19   \n",
      "4        85     170               1          0    0  110  0.9   15   \n",
      "..      ...     ...             ...        ...  ...  ...  ...  ...   \n",
      "400      70     166               0          0    1  120  1.5   14   \n",
      "401      75     163               0          0    0  100  1.1    9   \n",
      "402      90     168               0          0    1  130  0.9   18   \n",
      "403      75     168               1          0    0  110  1.4   13   \n",
      "404      51     148               0          0    1  160  1.0   13   \n",
      "\n",
      "     Nonanginal  HTN  Cath  \n",
      "0             0    0     1  \n",
      "1             0    1     1  \n",
      "2             0    1     1  \n",
      "3             0    0     0  \n",
      "4             1    0     0  \n",
      "..          ...  ...   ...  \n",
      "400           0    1     1  \n",
      "401           0    0     0  \n",
      "402           0    1     1  \n",
      "403           0    1     1  \n",
      "404           0    1     1  \n",
      "\n",
      "[405 rows x 19 columns]\n",
      "405\n"
     ]
    }
   ],
   "source": [
    "df_col3 = pd.concat([df_col,df_col2],ignore_index=True)\n",
    "print(df_col3)\n",
    "print(len(df_col3))"
   ]
  },
  {
   "cell_type": "code",
   "execution_count": 13,
   "metadata": {},
   "outputs": [],
   "source": [
    "bins = [27,50,70,90]\n",
    "names = [0,1,2]\n",
    "df_col3['AgeC'] = pd.cut(df_col3['Age'],bins,labels=names)\n",
    "bins = [16,25,34,42]\n",
    "names = [0,1,2]\n",
    "df_col3['BMIC'] = pd.cut(df_col3['BMI'],bins,labels=names)\n",
    "bins = [60,174,288,402]\n",
    "names = [0,1,2]\n",
    "df_col3['FBSC'] = pd.cut(df_col3['FBS'],bins,labels=names)\n",
    "bins = [45,72,98,125]\n",
    "names = [0,1,2]\n",
    "df_col3['WeightC'] = pd.cut(df_col3['Weight'],bins,labels=names)\n",
    "bins = [135,153,172,190]\n",
    "names = [0,1,2]\n",
    "df_col3['LengthC'] = pd.cut(df_col3['Length'],bins,labels=names)\n",
    "bins = [0.2,0.966,1.733,2.5]\n",
    "names = [0,1,2]\n",
    "df_col3['CRC'] = pd.cut(df_col3['CR'],bins,labels=names)\n",
    "bins = [85,122,158,195]\n",
    "names = [0,1,2]\n",
    "df_col3['BPC'] = pd.cut(df_col3['BP'],bins,labels=names)\n",
    "bins = [5,21.666,38.326,55]\n",
    "names = [0,1,2]\n",
    "df_col3['BUNC'] = pd.cut(df_col3['BUN'],bins,labels=names)"
   ]
  },
  {
   "cell_type": "code",
   "execution_count": 14,
   "metadata": {},
   "outputs": [],
   "source": [
    "df_col3 = df_col3.drop(['Age','BMI','FBS','Weight','Length','CR','BP','BUN'], axis = 1)"
   ]
  },
  {
   "cell_type": "code",
   "execution_count": 15,
   "metadata": {},
   "outputs": [],
   "source": [
    "cat_columns = df_col3.select_dtypes(['category']).columns"
   ]
  },
  {
   "cell_type": "code",
   "execution_count": 16,
   "metadata": {},
   "outputs": [
    {
     "name": "stdout",
     "output_type": "stream",
     "text": [
      "   Atypical  Sex  Obesity  DM  Typical Chest Pain  Current Smoker  EX-Smoker  \\\n",
      "0         1    0        1   0                   0               0          0   \n",
      "1         0    1        0   0                   1               0          0   \n",
      "2         0    1        1   1                   1               0          0   \n",
      "3         1    0        0   0                   0               0          0   \n",
      "4         0    0        1   0                   0               1          0   \n",
      "5         0    0        0   0                   1               0          0   \n",
      "6         0    0        0   1                   1               0          0   \n",
      "7         0    0        1   0                   1               1          0   \n",
      "8         1    1        1   1                   0               0          0   \n",
      "9         0    1        1   0                   0               0          0   \n",
      "\n",
      "   DLP  Nonanginal  HTN  Cath AgeC BMIC FBSC WeightC LengthC CRC BPC BUNC  \n",
      "0    0           0    0     1    1    1    0       2       2   1   0    0  \n",
      "1    0           0    1     1    1    0    0       0       1   0   1    0  \n",
      "2    1           0    1     1    1    1    1       0       0   1   1    0  \n",
      "3    0           0    0     0    0    0    1       0       1   1   0    0  \n",
      "4    0           1    0     0    1    1    0       1       1   0   0    0  \n",
      "5    0           0    0     1    1    0    0       0       1   0   0    0  \n",
      "6    0           0    0     1    1    0    0       1       2   0   1    0  \n",
      "7    0           0    1     1    1    1    0       1       2   1   1    0  \n",
      "8    1           0    0     0    1    1    2       1       0   1   0    0  \n",
      "9    0           1    0     0    1    1    0       1       1   0   0    0  \n"
     ]
    }
   ],
   "source": [
    "print(df_col3.head(10))"
   ]
  },
  {
   "cell_type": "code",
   "execution_count": 17,
   "metadata": {},
   "outputs": [
    {
     "name": "stderr",
     "output_type": "stream",
     "text": [
      "C:\\Users\\Aashna Joshi\\Anaconda3\\lib\\site-packages\\networkx\\drawing\\nx_pylab.py:126: MatplotlibDeprecationWarning: pyplot.hold is deprecated.\n",
      "    Future behavior will be consistent with the long-time default:\n",
      "    plot commands add elements without first clearing the\n",
      "    Axes and/or Figure.\n",
      "  b = plt.ishold()\n",
      "C:\\Users\\Aashna Joshi\\Anaconda3\\lib\\site-packages\\networkx\\drawing\\nx_pylab.py:522: MatplotlibDeprecationWarning: The is_string_like function was deprecated in version 2.1.\n",
      "  if not cb.is_string_like(edge_color) \\\n",
      "C:\\Users\\Aashna Joshi\\Anaconda3\\lib\\site-packages\\networkx\\drawing\\nx_pylab.py:543: MatplotlibDeprecationWarning: The is_string_like function was deprecated in version 2.1.\n",
      "  if cb.is_string_like(edge_color) or len(edge_color) == 1:\n",
      "C:\\Users\\Aashna Joshi\\Anaconda3\\lib\\site-packages\\networkx\\drawing\\nx_pylab.py:724: MatplotlibDeprecationWarning: The is_string_like function was deprecated in version 2.1.\n",
      "  if not cb.is_string_like(label):\n",
      "C:\\Users\\Aashna Joshi\\Anaconda3\\lib\\site-packages\\networkx\\drawing\\nx_pylab.py:138: MatplotlibDeprecationWarning: pyplot.hold is deprecated.\n",
      "    Future behavior will be consistent with the long-time default:\n",
      "    plot commands add elements without first clearing the\n",
      "    Axes and/or Figure.\n",
      "  plt.hold(b)\n",
      "C:\\Users\\Aashna Joshi\\AppData\\Roaming\\Python\\Python37\\site-packages\\matplotlib\\__init__.py:910: MatplotlibDeprecationWarning: axes.hold is deprecated. Please remove it from your matplotlibrc and/or style files.\n",
      "  mplDeprecation)\n",
      "C:\\Users\\Aashna Joshi\\AppData\\Roaming\\Python\\Python37\\site-packages\\matplotlib\\rcsetup.py:156: MatplotlibDeprecationWarning: axes.hold is deprecated, will be removed in 3.0\n",
      "  mplDeprecation)\n"
     ]
    }
   ],
   "source": [
    "from pgmpy.models import BayesianModel\n",
    "import networkx as nx\n",
    "import matplotlib.pyplot as plt\n",
    "model1 = BayesianModel([('AgeC','Cath'),('Sex','Current Smoker'),('Current Smoker','DM'),('Cath','DM'),('Sex','EX-Smoker'),\n",
    "                        ('Sex','LengthC'),('LengthC','WeightC'),('LengthC','BMIC'),('Typical Chest Pain','Cath'),('Typical Chest Pain','Atypical'),\n",
    "                        ('Typical Chest Pain','Nonanginal'),('Nonanginal','Atypical'),('WeightC','BMIC'),('BMIC','Obesity'),('Sex','DLP'),('DM','DLP'),\n",
    "                       ('DM','FBSC'),('Cath','HTN'),('HTN','CRC'),('Sex','CRC'),('HTN','BPC'),('CRC','BUNC')])\n",
    "plt.show()\n",
    "nx.draw(model1, with_labels=True)"
   ]
  },
  {
   "cell_type": "code",
   "execution_count": 92,
   "metadata": {},
   "outputs": [
    {
     "name": "stderr",
     "output_type": "stream",
     "text": [
      "C:\\Users\\Aashna Joshi\\Anaconda3\\lib\\site-packages\\networkx\\drawing\\nx_pylab.py:126: MatplotlibDeprecationWarning: pyplot.hold is deprecated.\n",
      "    Future behavior will be consistent with the long-time default:\n",
      "    plot commands add elements without first clearing the\n",
      "    Axes and/or Figure.\n",
      "  b = plt.ishold()\n",
      "C:\\Users\\Aashna Joshi\\Anaconda3\\lib\\site-packages\\networkx\\drawing\\nx_pylab.py:522: MatplotlibDeprecationWarning: The is_string_like function was deprecated in version 2.1.\n",
      "  if not cb.is_string_like(edge_color) \\\n",
      "C:\\Users\\Aashna Joshi\\Anaconda3\\lib\\site-packages\\networkx\\drawing\\nx_pylab.py:543: MatplotlibDeprecationWarning: The is_string_like function was deprecated in version 2.1.\n",
      "  if cb.is_string_like(edge_color) or len(edge_color) == 1:\n",
      "C:\\Users\\Aashna Joshi\\Anaconda3\\lib\\site-packages\\networkx\\drawing\\nx_pylab.py:724: MatplotlibDeprecationWarning: The is_string_like function was deprecated in version 2.1.\n",
      "  if not cb.is_string_like(label):\n",
      "C:\\Users\\Aashna Joshi\\Anaconda3\\lib\\site-packages\\networkx\\drawing\\nx_pylab.py:138: MatplotlibDeprecationWarning: pyplot.hold is deprecated.\n",
      "    Future behavior will be consistent with the long-time default:\n",
      "    plot commands add elements without first clearing the\n",
      "    Axes and/or Figure.\n",
      "  plt.hold(b)\n",
      "C:\\Users\\Aashna Joshi\\AppData\\Roaming\\Python\\Python37\\site-packages\\matplotlib\\__init__.py:910: MatplotlibDeprecationWarning: axes.hold is deprecated. Please remove it from your matplotlibrc and/or style files.\n",
      "  mplDeprecation)\n",
      "C:\\Users\\Aashna Joshi\\AppData\\Roaming\\Python\\Python37\\site-packages\\matplotlib\\rcsetup.py:156: MatplotlibDeprecationWarning: axes.hold is deprecated, will be removed in 3.0\n",
      "  mplDeprecation)\n"
     ]
    },
    {
     "data": {
      "image/png": "[encoded data removed]",
      "text/plain": [
       "<Figure size 432x288 with 1 Axes>"
      ]
     },
     "metadata": {},
     "output_type": "display_data"
    }
   ],
   "source": [
    "nx.draw(model1, with_labels=True)"
   ]
  },
  {
   "cell_type": "code",
   "execution_count": 18,
   "metadata": {},
   "outputs": [
    {
     "name": "stdout",
     "output_type": "stream",
     "text": [
      "\n",
      " AgeC                 0        1        2    \n",
      "Typical Chest Pain   0   1    0    1   0   1\n",
      "Cath                                        \n",
      "0                   66   6  109    4   3   1\n",
      "1                   12  25   34  104  16  25\n"
     ]
    }
   ],
   "source": [
    "from pgmpy.estimators import ParameterEstimator\n",
    "pe = ParameterEstimator(model1, df_col3)\n",
    "print(\"\\n\", pe.state_counts('Cath'))"
   ]
  },
  {
   "cell_type": "code",
   "execution_count": 19,
   "metadata": {},
   "outputs": [
    {
     "name": "stdout",
     "output_type": "stream",
     "text": [
      "+---------+----------+\n",
      "| AgeC(0) | 0.269136 |\n",
      "+---------+----------+\n",
      "| AgeC(1) | 0.619753 |\n",
      "+---------+----------+\n",
      "| AgeC(2) | 0.111111 |\n",
      "+---------+----------+\n",
      "+--------------------+-----------------------+-----------------------+-----------------------+-----------------------+-----------------------+-----------------------+\n",
      "| AgeC               | AgeC(0)               | AgeC(0)               | AgeC(1)               | AgeC(1)               | AgeC(2)               | AgeC(2)               |\n",
      "+--------------------+-----------------------+-----------------------+-----------------------+-----------------------+-----------------------+-----------------------+\n",
      "| Typical Chest Pain | Typical Chest Pain(0) | Typical Chest Pain(1) | Typical Chest Pain(0) | Typical Chest Pain(1) | Typical Chest Pain(0) | Typical Chest Pain(1) |\n",
      "+--------------------+-----------------------+-----------------------+-----------------------+-----------------------+-----------------------+-----------------------+\n",
      "| Cath(0)            | 0.8461538461538461    | 0.1935483870967742    | 0.7622377622377622    | 0.037037037037037035  | 0.15789473684210525   | 0.038461538461538464  |\n",
      "+--------------------+-----------------------+-----------------------+-----------------------+-----------------------+-----------------------+-----------------------+\n",
      "| Cath(1)            | 0.15384615384615385   | 0.8064516129032258    | 0.23776223776223776   | 0.9629629629629629    | 0.8421052631578947    | 0.9615384615384616    |\n",
      "+--------------------+-----------------------+-----------------------+-----------------------+-----------------------+-----------------------+-----------------------+\n"
     ]
    }
   ],
   "source": [
    "from pgmpy.estimators import MaximumLikelihoodEstimator\n",
    "mle = MaximumLikelihoodEstimator(model1, df_col3)\n",
    "print(mle.estimate_cpd('AgeC'))\n",
    "print(mle.estimate_cpd('Cath'))"
   ]
  },
  {
   "cell_type": "code",
   "execution_count": 20,
   "metadata": {},
   "outputs": [
    {
     "name": "stdout",
     "output_type": "stream",
     "text": [
      "+---------+----------+\n",
      "| AgeC(0) | 0.269136 |\n",
      "+---------+----------+\n",
      "| AgeC(1) | 0.619753 |\n",
      "+---------+----------+\n",
      "| AgeC(2) | 0.111111 |\n",
      "+---------+----------+\n",
      "+--------------------+-----------------------+-----------------------+-----------------------+-----------------------+\n",
      "| Nonanginal         | Nonanginal(0)         | Nonanginal(0)         | Nonanginal(1)         | Nonanginal(1)         |\n",
      "+--------------------+-----------------------+-----------------------+-----------------------+-----------------------+\n",
      "| Typical Chest Pain | Typical Chest Pain(0) | Typical Chest Pain(1) | Typical Chest Pain(0) | Typical Chest Pain(1) |\n",
      "+--------------------+-----------------------+-----------------------+-----------------------+-----------------------+\n",
      "| Atypical(0)        | 0.41517857142857145   | 1.0                   | 1.0                   | 0.5                   |\n",
      "+--------------------+-----------------------+-----------------------+-----------------------+-----------------------+\n",
      "| Atypical(1)        | 0.5848214285714286    | 0.0                   | 0.0                   | 0.5                   |\n",
      "+--------------------+-----------------------+-----------------------+-----------------------+-----------------------+\n",
      "+---------+---------------------+--------------------+--------------------+------------+---------------------+--------------------+------------+--------------------+--------------------+\n",
      "| LengthC | LengthC(0)          | LengthC(0)         | LengthC(0)         | LengthC(1) | LengthC(1)          | LengthC(1)         | LengthC(2) | LengthC(2)         | LengthC(2)         |\n",
      "+---------+---------------------+--------------------+--------------------+------------+---------------------+--------------------+------------+--------------------+--------------------+\n",
      "| WeightC | WeightC(0)          | WeightC(1)         | WeightC(2)         | WeightC(0) | WeightC(1)          | WeightC(2)         | WeightC(0) | WeightC(1)         | WeightC(2)         |\n",
      "+---------+---------------------+--------------------+--------------------+------------+---------------------+--------------------+------------+--------------------+--------------------+\n",
      "| BMIC(0) | 0.16129032258064516 | 0.0                | 0.3333333333333333 | 0.55       | 0.0                 | 0.0                | 1.0        | 0.2878787878787879 | 0.0                |\n",
      "+---------+---------------------+--------------------+--------------------+------------+---------------------+--------------------+------------+--------------------+--------------------+\n",
      "| BMIC(1) | 0.8387096774193549  | 0.5882352941176471 | 0.3333333333333333 | 0.45       | 0.8625954198473282  | 0.3333333333333333 | 0.0        | 0.7121212121212122 | 0.6666666666666666 |\n",
      "+---------+---------------------+--------------------+--------------------+------------+---------------------+--------------------+------------+--------------------+--------------------+\n",
      "| BMIC(2) | 0.0                 | 0.4117647058823529 | 0.3333333333333333 | 0.0        | 0.13740458015267176 | 0.6666666666666666 | 0.0        | 0.0                | 0.3333333333333333 |\n",
      "+---------+---------------------+--------------------+--------------------+------------+---------------------+--------------------+------------+--------------------+--------------------+\n",
      "+--------+--------------------+--------------------+\n",
      "| HTN    | HTN(0)             | HTN(1)             |\n",
      "+--------+--------------------+--------------------+\n",
      "| BPC(0) | 0.6699029126213593 | 0.1658291457286432 |\n",
      "+--------+--------------------+--------------------+\n",
      "| BPC(1) | 0.3300970873786408 | 0.6683417085427136 |\n",
      "+--------+--------------------+--------------------+\n",
      "| BPC(2) | 0.0                | 0.1658291457286432 |\n",
      "+--------+--------------------+--------------------+\n",
      "+---------+----------------------+---------------------+---------------------+\n",
      "| CRC     | CRC(0)               | CRC(1)              | CRC(2)              |\n",
      "+---------+----------------------+---------------------+---------------------+\n",
      "| BUNC(0) | 0.9194630872483222   | 0.7871485943775101  | 0.2857142857142857  |\n",
      "+---------+----------------------+---------------------+---------------------+\n",
      "| BUNC(1) | 0.0738255033557047   | 0.19678714859437751 | 0.42857142857142855 |\n",
      "+---------+----------------------+---------------------+---------------------+\n",
      "| BUNC(2) | 0.006711409395973154 | 0.01606425702811245 | 0.2857142857142857  |\n",
      "+---------+----------------------+---------------------+---------------------+\n",
      "+--------+--------------------+--------------------+---------------------+----------------------+\n",
      "| HTN    | HTN(0)             | HTN(0)             | HTN(1)              | HTN(1)               |\n",
      "+--------+--------------------+--------------------+---------------------+----------------------+\n",
      "| Sex    | Sex(0)             | Sex(1)             | Sex(0)              | Sex(1)               |\n",
      "+--------+--------------------+--------------------+---------------------+----------------------+\n",
      "| CRC(0) | 0.3194444444444444 | 0.6129032258064516 | 0.22123893805309736 | 0.46511627906976744  |\n",
      "+--------+--------------------+--------------------+---------------------+----------------------+\n",
      "| CRC(1) | 0.6805555555555556 | 0.3870967741935484 | 0.7345132743362832  | 0.5116279069767442   |\n",
      "+--------+--------------------+--------------------+---------------------+----------------------+\n",
      "| CRC(2) | 0.0                | 0.0                | 0.04424778761061947 | 0.023255813953488372 |\n",
      "+--------+--------------------+--------------------+---------------------+----------------------+\n",
      "+--------------------+-----------------------+-----------------------+-----------------------+-----------------------+-----------------------+-----------------------+\n",
      "| AgeC               | AgeC(0)               | AgeC(0)               | AgeC(1)               | AgeC(1)               | AgeC(2)               | AgeC(2)               |\n",
      "+--------------------+-----------------------+-----------------------+-----------------------+-----------------------+-----------------------+-----------------------+\n",
      "| Typical Chest Pain | Typical Chest Pain(0) | Typical Chest Pain(1) | Typical Chest Pain(0) | Typical Chest Pain(1) | Typical Chest Pain(0) | Typical Chest Pain(1) |\n",
      "+--------------------+-----------------------+-----------------------+-----------------------+-----------------------+-----------------------+-----------------------+\n",
      "| Cath(0)            | 0.8461538461538461    | 0.1935483870967742    | 0.7622377622377622    | 0.037037037037037035  | 0.15789473684210525   | 0.038461538461538464  |\n",
      "+--------------------+-----------------------+-----------------------+-----------------------+-----------------------+-----------------------+-----------------------+\n",
      "| Cath(1)            | 0.15384615384615385   | 0.8064516129032258    | 0.23776223776223776   | 0.9629629629629629    | 0.8421052631578947    | 0.9615384615384616    |\n",
      "+--------------------+-----------------------+-----------------------+-----------------------+-----------------------+-----------------------+-----------------------+\n",
      "+-------------------+---------------------+---------------------+\n",
      "| Sex               | Sex(0)              | Sex(1)              |\n",
      "+-------------------+---------------------+---------------------+\n",
      "| Current Smoker(0) | 0.7782101167315175  | 0.9594594594594594  |\n",
      "+-------------------+---------------------+---------------------+\n",
      "| Current Smoker(1) | 0.22178988326848248 | 0.04054054054054054 |\n",
      "+-------------------+---------------------+---------------------+\n",
      "+--------+---------------------+--------------------+---------------------+---------------------+\n",
      "| DM     | DM(0)               | DM(0)              | DM(1)               | DM(1)               |\n",
      "+--------+---------------------+--------------------+---------------------+---------------------+\n",
      "| Sex    | Sex(0)              | Sex(1)             | Sex(0)              | Sex(1)              |\n",
      "+--------+---------------------+--------------------+---------------------+---------------------+\n",
      "| DLP(0) | 0.8604651162790697  | 0.5360824742268041 | 0.40476190476190477 | 0.45098039215686275 |\n",
      "+--------+---------------------+--------------------+---------------------+---------------------+\n",
      "| DLP(1) | 0.13953488372093023 | 0.4639175257731959 | 0.5952380952380952  | 0.5490196078431373  |\n",
      "+--------+---------------------+--------------------+---------------------+---------------------+\n",
      "+----------------+---------------------+-------------------+-------------------+---------------------+\n",
      "| Cath           | Cath(0)             | Cath(0)           | Cath(1)           | Cath(1)             |\n",
      "+----------------+---------------------+-------------------+-------------------+---------------------+\n",
      "| Current Smoker | Current Smoker(0)   | Current Smoker(1) | Current Smoker(0) | Current Smoker(1)   |\n",
      "+----------------+---------------------+-------------------+-------------------+---------------------+\n",
      "| DM(0)          | 0.9257142857142857  | 1.0               | 0.562874251497006 | 0.8571428571428571  |\n",
      "+----------------+---------------------+-------------------+-------------------+---------------------+\n",
      "| DM(1)          | 0.07428571428571429 | 0.0               | 0.437125748502994 | 0.14285714285714285 |\n",
      "+----------------+---------------------+-------------------+-------------------+---------------------+\n",
      "+--------------+----------------------+--------+\n",
      "| Sex          | Sex(0)               | Sex(1) |\n",
      "+--------------+----------------------+--------+\n",
      "| EX-Smoker(0) | 0.9610894941634242   | 1.0    |\n",
      "+--------------+----------------------+--------+\n",
      "| EX-Smoker(1) | 0.038910505836575876 | 0.0    |\n",
      "+--------------+----------------------+--------+\n",
      "+---------+----------------------+----------------------+\n",
      "| DM      | DM(0)                | DM(1)                |\n",
      "+---------+----------------------+----------------------+\n",
      "| FBSC(0) | 0.9839743589743589   | 0.5376344086021505   |\n",
      "+---------+----------------------+----------------------+\n",
      "| FBSC(1) | 0.016025641025641024 | 0.40860215053763443  |\n",
      "+---------+----------------------+----------------------+\n",
      "| FBSC(2) | 0.0                  | 0.053763440860215055 |\n",
      "+---------+----------------------+----------------------+\n",
      "+--------+--------------------+--------------------+\n",
      "| Cath   | Cath(0)            | Cath(1)            |\n",
      "+--------+--------------------+--------------------+\n",
      "| HTN(0) | 0.7248677248677249 | 0.3194444444444444 |\n",
      "+--------+--------------------+--------------------+\n",
      "| HTN(1) | 0.2751322751322751 | 0.6805555555555556 |\n",
      "+--------+--------------------+--------------------+\n",
      "+------------+----------------------+----------------------+\n",
      "| Sex        | Sex(0)               | Sex(1)               |\n",
      "+------------+----------------------+----------------------+\n",
      "| LengthC(0) | 0.011673151750972763 | 0.30405405405405406  |\n",
      "+------------+----------------------+----------------------+\n",
      "| LengthC(1) | 0.669260700389105    | 0.6891891891891891   |\n",
      "+------------+----------------------+----------------------+\n",
      "| LengthC(2) | 0.31906614785992216  | 0.006756756756756757 |\n",
      "+------------+----------------------+----------------------+\n",
      "+--------------------+-----------------------+-----------------------+\n",
      "| Typical Chest Pain | Typical Chest Pain(0) | Typical Chest Pain(1) |\n",
      "+--------------------+-----------------------+-----------------------+\n",
      "| Nonanginal(0)      | 0.9333333333333333    | 1.0                   |\n",
      "+--------------------+-----------------------+-----------------------+\n",
      "| Nonanginal(1)      | 0.06666666666666667   | 0.0                   |\n",
      "+--------------------+-----------------------+-----------------------+\n",
      "+------------+----------------------+---------------------+---------+\n",
      "| BMIC       | BMIC(0)              | BMIC(1)             | BMIC(2) |\n",
      "+------------+----------------------+---------------------+---------+\n",
      "| Obesity(0) | 0.9910714285714286   | 0.07575757575757576 | 0.0     |\n",
      "+------------+----------------------+---------------------+---------+\n",
      "| Obesity(1) | 0.008928571428571428 | 0.9242424242424242  | 1.0     |\n",
      "+------------+----------------------+---------------------+---------+\n",
      "+--------+----------+\n",
      "| Sex(0) | 0.634568 |\n",
      "+--------+----------+\n",
      "| Sex(1) | 0.365432 |\n",
      "+--------+----------+\n",
      "+-----------------------+----------+\n",
      "| Typical Chest Pain(0) | 0.592593 |\n",
      "+-----------------------+----------+\n",
      "| Typical Chest Pain(1) | 0.407407 |\n",
      "+-----------------------+----------+\n",
      "+------------+--------------------+----------------------+---------------------+\n",
      "| LengthC    | LengthC(0)         | LengthC(1)           | LengthC(2)          |\n",
      "+------------+--------------------+----------------------+---------------------+\n",
      "| WeightC(0) | 0.6458333333333334 | 0.5109489051094891   | 0.13253012048192772 |\n",
      "+------------+--------------------+----------------------+---------------------+\n",
      "| WeightC(1) | 0.3541666666666667 | 0.4781021897810219   | 0.7951807228915663  |\n",
      "+------------+--------------------+----------------------+---------------------+\n",
      "| WeightC(2) | 0.0                | 0.010948905109489052 | 0.07228915662650602 |\n",
      "+------------+--------------------+----------------------+---------------------+\n"
     ]
    }
   ],
   "source": [
    "model1.fit(df_col3, estimator=MaximumLikelihoodEstimator) # default␣, →equivalent_sample_ \n",
    "for cpd in model1.get_cpds(): \n",
    "    print(cpd)"
   ]
  },
  {
   "cell_type": "code",
   "execution_count": 21,
   "metadata": {},
   "outputs": [
    {
     "name": "stderr",
     "output_type": "stream",
     "text": [
      "WARNING:root:Replacing existing CPD for AgeC\n",
      "WARNING:root:Replacing existing CPD for Atypical\n",
      "WARNING:root:Replacing existing CPD for BMIC\n",
      "WARNING:root:Replacing existing CPD for BPC\n",
      "WARNING:root:Replacing existing CPD for BUNC\n",
      "WARNING:root:Replacing existing CPD for CRC\n",
      "WARNING:root:Replacing existing CPD for Cath\n",
      "WARNING:root:Replacing existing CPD for Current Smoker\n",
      "WARNING:root:Replacing existing CPD for DLP\n",
      "WARNING:root:Replacing existing CPD for DM\n",
      "WARNING:root:Replacing existing CPD for EX-Smoker\n",
      "WARNING:root:Replacing existing CPD for FBSC\n",
      "WARNING:root:Replacing existing CPD for HTN\n",
      "WARNING:root:Replacing existing CPD for LengthC\n",
      "WARNING:root:Replacing existing CPD for Nonanginal\n",
      "WARNING:root:Replacing existing CPD for Obesity\n",
      "WARNING:root:Replacing existing CPD for Sex\n",
      "WARNING:root:Replacing existing CPD for Typical Chest Pain\n",
      "WARNING:root:Replacing existing CPD for WeightC\n"
     ]
    }
   ],
   "source": [
    "from pgmpy.inference import VariableElimination\n",
    "model1.fit(df_col3, estimator=MaximumLikelihoodEstimator)\n",
    "inference = VariableElimination(model1)"
   ]
  },
  {
   "cell_type": "code",
   "execution_count": 22,
   "metadata": {},
   "outputs": [
    {
     "name": "stderr",
     "output_type": "stream",
     "text": [
      "WARNING:root:Replacing existing CPD for AgeC\n",
      "WARNING:root:Replacing existing CPD for Atypical\n",
      "WARNING:root:Replacing existing CPD for BMIC\n",
      "WARNING:root:Replacing existing CPD for BPC\n",
      "WARNING:root:Replacing existing CPD for BUNC\n",
      "WARNING:root:Replacing existing CPD for CRC\n",
      "WARNING:root:Replacing existing CPD for Cath\n",
      "WARNING:root:Replacing existing CPD for Current Smoker\n",
      "WARNING:root:Replacing existing CPD for DLP\n",
      "WARNING:root:Replacing existing CPD for DM\n",
      "WARNING:root:Replacing existing CPD for EX-Smoker\n",
      "WARNING:root:Replacing existing CPD for FBSC\n",
      "WARNING:root:Replacing existing CPD for HTN\n",
      "WARNING:root:Replacing existing CPD for LengthC\n",
      "WARNING:root:Replacing existing CPD for Nonanginal\n",
      "WARNING:root:Replacing existing CPD for Obesity\n",
      "WARNING:root:Replacing existing CPD for Sex\n",
      "WARNING:root:Replacing existing CPD for Typical Chest Pain\n",
      "WARNING:root:Replacing existing CPD for WeightC\n"
     ]
    }
   ],
   "source": [
    "from pgmpy.inference import VariableElimination\n",
    "model1.fit(df_col3, estimator=MaximumLikelihoodEstimator)\n",
    "inference = VariableElimination(model1)"
   ]
  },
  {
   "cell_type": "code",
   "execution_count": 23,
   "metadata": {},
   "outputs": [
    {
     "ename": "NameError",
     "evalue": "name 'query' is not defined",
     "output_type": "error",
     "traceback": [
      "\u001b[1;31m---------------------------------------------------------------------------\u001b[0m",
      "\u001b[1;31mNameError\u001b[0m                                 Traceback (most recent call last)",
      "\u001b[1;32m<ipython-input-23-ae0d020ea9ea>\u001b[0m in \u001b[0;36m<module>\u001b[1;34m\u001b[0m\n\u001b[1;32m----> 1\u001b[1;33m \u001b[0mprint\u001b[0m\u001b[1;33m(\u001b[0m\u001b[0mquery\u001b[0m\u001b[1;33m[\u001b[0m\u001b[1;34m'Cath'\u001b[0m\u001b[1;33m]\u001b[0m\u001b[1;33m)\u001b[0m\u001b[1;33m\u001b[0m\u001b[1;33m\u001b[0m\u001b[0m\n\u001b[0m",
      "\u001b[1;31mNameError\u001b[0m: name 'query' is not defined"
     ]
    }
   ],
   "source": [
    "print(query['Cath'])"
   ]
  },
  {
   "cell_type": "code",
   "execution_count": 24,
   "metadata": {},
   "outputs": [],
   "source": [
    "m = inference.induced_graph(['Cath','Sex','Obesity','AgeC','BMIC','DM','FBSC','Typical Chest Pain','WeightC','LengthC','Current Smoker','EX-Smoker','DLP','Atypical','Nonanginal','CRC','BPC','HTN','BUNC'])"
   ]
  },
  {
   "cell_type": "code",
   "execution_count": 25,
   "metadata": {},
   "outputs": [
    {
     "name": "stderr",
     "output_type": "stream",
     "text": [
      "C:\\Users\\Aashna Joshi\\Anaconda3\\lib\\site-packages\\networkx\\drawing\\nx_pylab.py:126: MatplotlibDeprecationWarning: pyplot.hold is deprecated.\n",
      "    Future behavior will be consistent with the long-time default:\n",
      "    plot commands add elements without first clearing the\n",
      "    Axes and/or Figure.\n",
      "  b = plt.ishold()\n",
      "C:\\Users\\Aashna Joshi\\Anaconda3\\lib\\site-packages\\networkx\\drawing\\nx_pylab.py:522: MatplotlibDeprecationWarning: The is_string_like function was deprecated in version 2.1.\n",
      "  if not cb.is_string_like(edge_color) \\\n",
      "C:\\Users\\Aashna Joshi\\Anaconda3\\lib\\site-packages\\networkx\\drawing\\nx_pylab.py:543: MatplotlibDeprecationWarning: The is_string_like function was deprecated in version 2.1.\n",
      "  if cb.is_string_like(edge_color) or len(edge_color) == 1:\n",
      "C:\\Users\\Aashna Joshi\\Anaconda3\\lib\\site-packages\\networkx\\drawing\\nx_pylab.py:724: MatplotlibDeprecationWarning: The is_string_like function was deprecated in version 2.1.\n",
      "  if not cb.is_string_like(label):\n",
      "C:\\Users\\Aashna Joshi\\Anaconda3\\lib\\site-packages\\networkx\\drawing\\nx_pylab.py:138: MatplotlibDeprecationWarning: pyplot.hold is deprecated.\n",
      "    Future behavior will be consistent with the long-time default:\n",
      "    plot commands add elements without first clearing the\n",
      "    Axes and/or Figure.\n",
      "  plt.hold(b)\n",
      "C:\\Users\\Aashna Joshi\\AppData\\Roaming\\Python\\Python37\\site-packages\\matplotlib\\__init__.py:910: MatplotlibDeprecationWarning: axes.hold is deprecated. Please remove it from your matplotlibrc and/or style files.\n",
      "  mplDeprecation)\n",
      "C:\\Users\\Aashna Joshi\\AppData\\Roaming\\Python\\Python37\\site-packages\\matplotlib\\rcsetup.py:156: MatplotlibDeprecationWarning: axes.hold is deprecated, will be removed in 3.0\n",
      "  mplDeprecation)\n"
     ]
    },
    {
     "data": {
      "image/png": "[encoded data removed]",
      "text/plain": [
       "<Figure size 432x288 with 1 Axes>"
      ]
     },
     "metadata": {},
     "output_type": "display_data"
    }
   ],
   "source": [
    "nx.draw(m, with_labels = True)"
   ]
  },
  {
   "cell_type": "code",
   "execution_count": 26,
   "metadata": {},
   "outputs": [],
   "source": [
    "cat_columns = df_col3.select_dtypes(['category']).columns\n"
   ]
  },
  {
   "cell_type": "code",
   "execution_count": 93,
   "metadata": {},
   "outputs": [
    {
     "data": {
      "text/html": [
       "<div>\n",
       "<style scoped>\n",
       "    .dataframe tbody tr th:only-of-type {\n",
       "        vertical-align: middle;\n",
       "    }\n",
       "\n",
       "    .dataframe tbody tr th {\n",
       "        vertical-align: top;\n",
       "    }\n",
       "\n",
       "    .dataframe thead th {\n",
       "        text-align: right;\n",
       "    }\n",
       "</style>\n",
       "<table border=\"1\" class=\"dataframe\">\n",
       "  <thead>\n",
       "    <tr style=\"text-align: right;\">\n",
       "      <th></th>\n",
       "      <th>Cath_0</th>\n",
       "      <th>Cath_1</th>\n",
       "    </tr>\n",
       "  </thead>\n",
       "  <tbody>\n",
       "    <tr>\n",
       "      <th>0</th>\n",
       "      <td>0.922863</td>\n",
       "      <td>0.077137</td>\n",
       "    </tr>\n",
       "    <tr>\n",
       "      <th>1</th>\n",
       "      <td>0.024935</td>\n",
       "      <td>0.975065</td>\n",
       "    </tr>\n",
       "    <tr>\n",
       "      <th>2</th>\n",
       "      <td>0.002635</td>\n",
       "      <td>0.997365</td>\n",
       "    </tr>\n",
       "    <tr>\n",
       "      <th>3</th>\n",
       "      <td>0.953543</td>\n",
       "      <td>0.046457</td>\n",
       "    </tr>\n",
       "    <tr>\n",
       "      <th>4</th>\n",
       "      <td>0.894593</td>\n",
       "      <td>0.105407</td>\n",
       "    </tr>\n",
       "    <tr>\n",
       "      <th>...</th>\n",
       "      <td>...</td>\n",
       "      <td>...</td>\n",
       "    </tr>\n",
       "    <tr>\n",
       "      <th>400</th>\n",
       "      <td>0.137612</td>\n",
       "      <td>0.862388</td>\n",
       "    </tr>\n",
       "    <tr>\n",
       "      <th>401</th>\n",
       "      <td>0.922863</td>\n",
       "      <td>0.077137</td>\n",
       "    </tr>\n",
       "    <tr>\n",
       "      <th>402</th>\n",
       "      <td>0.024935</td>\n",
       "      <td>0.975065</td>\n",
       "    </tr>\n",
       "    <tr>\n",
       "      <th>403</th>\n",
       "      <td>0.017817</td>\n",
       "      <td>0.982183</td>\n",
       "    </tr>\n",
       "    <tr>\n",
       "      <th>404</th>\n",
       "      <td>0.025906</td>\n",
       "      <td>0.974094</td>\n",
       "    </tr>\n",
       "  </tbody>\n",
       "</table>\n",
       "<p>405 rows × 2 columns</p>\n",
       "</div>"
      ],
      "text/plain": [
       "       Cath_0    Cath_1\n",
       "0    0.922863  0.077137\n",
       "1    0.024935  0.975065\n",
       "2    0.002635  0.997365\n",
       "3    0.953543  0.046457\n",
       "4    0.894593  0.105407\n",
       "..        ...       ...\n",
       "400  0.137612  0.862388\n",
       "401  0.922863  0.077137\n",
       "402  0.024935  0.975065\n",
       "403  0.017817  0.982183\n",
       "404  0.025906  0.974094\n",
       "\n",
       "[405 rows x 2 columns]"
      ]
     },
     "execution_count": 93,
     "metadata": {},
     "output_type": "execute_result"
    }
   ],
   "source": [
    "model1 = BayesianModel([('AgeC','Cath'),('Sex','Current Smoker'),('Current Smoker','DM'),('Cath','DM'),('Sex','EX-Smoker'),\n",
    "                        ('Sex','LengthC'),('LengthC','WeightC'),('LengthC','BMIC'),('Typical Chest Pain','Cath'),('Typical Chest Pain','Atypical'),\n",
    "                        ('Typical Chest Pain','Nonanginal'),('Nonanginal','Atypical'),('WeightC','BMIC'),('BMIC','Obesity'),('Sex','DLP'),('DM','DLP'),\n",
    "                       ('DM','FBSC'),('Cath','HTN'),('HTN','CRC'),('Sex','CRC'),('HTN','BPC'),('CRC','BUNC')])\n",
    "Df_col3 = df_col3.copy()\n",
    "model1.fit(Df_col3)\n",
    "Df_col3.drop('Cath', axis=1, inplace=True)\n",
    "y_prob = model1.predict_probability(Df_col3)\n",
    "y_prob\n",
    "#y_prob.iloc[91,:]"
   ]
  },
  {
   "cell_type": "code",
   "execution_count": 28,
   "metadata": {},
   "outputs": [],
   "source": [
    "y = df_col3.drop(['Sex','Obesity','AgeC','BMIC','DM','FBSC','Typical Chest Pain','LengthC','WeightC','Current Smoker','EX-Smoker','DLP','Atypical','Nonanginal','CRC','BPC','HTN','BUNC'],axis=1)"
   ]
  },
  {
   "cell_type": "code",
   "execution_count": 29,
   "metadata": {},
   "outputs": [],
   "source": [
    "x = df_col3.drop(['Cath'],axis=1)"
   ]
  },
  {
   "cell_type": "code",
   "execution_count": 30,
   "metadata": {},
   "outputs": [],
   "source": [
    "from sklearn.model_selection import train_test_split"
   ]
  },
  {
   "cell_type": "code",
   "execution_count": 31,
   "metadata": {},
   "outputs": [],
   "source": [
    "x_train, x_test, y_train, y_test = train_test_split(x,y,train_size=0.82,random_state=23)"
   ]
  },
  {
   "cell_type": "code",
   "execution_count": 32,
   "metadata": {},
   "outputs": [
    {
     "name": "stdout",
     "output_type": "stream",
     "text": [
      "     Atypical  Sex  Obesity  DM  Typical Chest Pain  Current Smoker  \\\n",
      "289         0    1        1   0                   0               0   \n",
      "383         1    1        1   0                   0               0   \n",
      "203         0    0        0   0                   1               1   \n",
      "151         0    1        1   1                   1               0   \n",
      "239         0    0        1   0                   1               0   \n",
      "..        ...  ...      ...  ..                 ...             ...   \n",
      "237         1    1        1   1                   0               0   \n",
      "31          0    0        0   0                   1               1   \n",
      "40          1    1        1   1                   0               0   \n",
      "230         1    0        1   0                   0               0   \n",
      "83          0    0        1   0                   1               1   \n",
      "\n",
      "     EX-Smoker  DLP  Nonanginal  HTN AgeC BMIC FBSC WeightC LengthC CRC BPC  \\\n",
      "289          0    0           0    0    1    2    0       1       1   0   0   \n",
      "383          0    1           0    0    1    1    0       0       0   0   0   \n",
      "203          0    0           0    0    1    0    0       0       2   0   0   \n",
      "151          0    0           0    1    2    1    0       1       0   2   1   \n",
      "239          1    0           0    0    1    1    0       1       1   0   0   \n",
      "..         ...  ...         ...  ...  ...  ...  ...     ...     ...  ..  ..   \n",
      "237          0    0           0    1    1    1    0       0       1   1   1   \n",
      "31           0    0           0    1    2    0    0       0       2   0   1   \n",
      "40           0    1           0    1    1    1    1       0       1   1   1   \n",
      "230          0    1           0    1    1    1    0       1       1   0   1   \n",
      "83           0    0           0    1    0    1    0       1       1   1   1   \n",
      "\n",
      "    BUNC  \n",
      "289    0  \n",
      "383    0  \n",
      "203    0  \n",
      "151    1  \n",
      "239    0  \n",
      "..   ...  \n",
      "237    0  \n",
      "31     0  \n",
      "40     0  \n",
      "230    0  \n",
      "83     0  \n",
      "\n",
      "[332 rows x 18 columns]\n"
     ]
    }
   ],
   "source": [
    "print(x_train)"
   ]
  },
  {
   "cell_type": "code",
   "execution_count": 33,
   "metadata": {},
   "outputs": [
    {
     "name": "stdout",
     "output_type": "stream",
     "text": [
      "     Atypical  Sex  Obesity  DM  Typical Chest Pain  Current Smoker  \\\n",
      "332         0    1        1   0                   0               0   \n",
      "217         0    0        1   0                   1               0   \n",
      "400         0    1        1   0                   1               0   \n",
      "280         1    0        1   0                   0               0   \n",
      "108         0    0        0   0                   1               0   \n",
      "..        ...  ...      ...  ..                 ...             ...   \n",
      "307         1    1        1   0                   0               0   \n",
      "27          0    1        1   1                   1               0   \n",
      "364         1    1        1   1                   0               0   \n",
      "158         0    1        1   0                   1               0   \n",
      "328         1    1        1   0                   0               0   \n",
      "\n",
      "     EX-Smoker  DLP  Nonanginal  HTN AgeC BMIC FBSC WeightC LengthC CRC BPC  \\\n",
      "332          0    0           0    0    1    1    0       0       0   0   1   \n",
      "217          0    0           0    0    1    1    0       1       1   1   0   \n",
      "400          0    1           0    1    0    1    0       0       1   1   0   \n",
      "280          0    0           0    0    0    1    0       0       1   1   0   \n",
      "108          0    0           0    1    1    0    0       0       1   0   1   \n",
      "..         ...  ...         ...  ...  ...  ...  ...     ...     ...  ..  ..   \n",
      "307          0    0           0    0    1    1    0       0       1   0   1   \n",
      "27           0    0           0    1    1    1    2       0       0   1   1   \n",
      "364          0    1           0    1    1    1    1       0       1   0   1   \n",
      "158          0    0           0    1    2    1    0       1       0   1   2   \n",
      "328          0    1           0    0    1    1    0       0       1   0   1   \n",
      "\n",
      "    BUNC  \n",
      "332    0  \n",
      "217    0  \n",
      "400    0  \n",
      "280    1  \n",
      "108    0  \n",
      "..   ...  \n",
      "307    0  \n",
      "27     2  \n",
      "364    0  \n",
      "158    0  \n",
      "328    0  \n",
      "\n",
      "[73 rows x 18 columns]\n"
     ]
    }
   ],
   "source": [
    "print(x_test)"
   ]
  },
  {
   "cell_type": "code",
   "execution_count": 34,
   "metadata": {},
   "outputs": [],
   "source": [
    "data_train = pd.concat([x_train,y_train], axis=1)"
   ]
  },
  {
   "cell_type": "code",
   "execution_count": 35,
   "metadata": {},
   "outputs": [
    {
     "name": "stderr",
     "output_type": "stream",
     "text": [
      "WARNING:root:Replacing existing CPD for AgeC\n",
      "WARNING:root:Replacing existing CPD for Atypical\n",
      "WARNING:root:Replacing existing CPD for BMIC\n",
      "WARNING:root:Replacing existing CPD for BPC\n",
      "WARNING:root:Replacing existing CPD for BUNC\n",
      "WARNING:root:Replacing existing CPD for CRC\n",
      "WARNING:root:Replacing existing CPD for Cath\n",
      "WARNING:root:Replacing existing CPD for Current Smoker\n",
      "WARNING:root:Replacing existing CPD for DLP\n",
      "WARNING:root:Replacing existing CPD for DM\n",
      "WARNING:root:Replacing existing CPD for EX-Smoker\n",
      "WARNING:root:Replacing existing CPD for FBSC\n",
      "WARNING:root:Replacing existing CPD for HTN\n",
      "WARNING:root:Replacing existing CPD for LengthC\n",
      "WARNING:root:Replacing existing CPD for Nonanginal\n",
      "WARNING:root:Replacing existing CPD for Obesity\n",
      "WARNING:root:Replacing existing CPD for Sex\n",
      "WARNING:root:Replacing existing CPD for Typical Chest Pain\n",
      "WARNING:root:Replacing existing CPD for WeightC\n"
     ]
    }
   ],
   "source": [
    "model1.fit(data_train, estimator=MaximumLikelihoodEstimator)"
   ]
  },
  {
   "cell_type": "code",
   "execution_count": 36,
   "metadata": {},
   "outputs": [
    {
     "data": {
      "text/plain": [
       "[<TabularCPD representing P(AgeC:3) at 0x267880ed9b0>,\n",
       " <TabularCPD representing P(Atypical:2 | Nonanginal:2, Typical Chest Pain:2) at 0x26782a5b668>,\n",
       " <TabularCPD representing P(BMIC:3 | LengthC:3, WeightC:3) at 0x26788774cf8>,\n",
       " <TabularCPD representing P(BPC:3 | HTN:2) at 0x26782a5bb70>,\n",
       " <TabularCPD representing P(BUNC:3 | CRC:3) at 0x26788774898>,\n",
       " <TabularCPD representing P(CRC:3 | HTN:2, Sex:2) at 0x2678877cf98>,\n",
       " <TabularCPD representing P(Cath:2 | AgeC:3, Typical Chest Pain:2) at 0x2678877c2e8>,\n",
       " <TabularCPD representing P(Current Smoker:2 | Sex:2) at 0x2678877c668>,\n",
       " <TabularCPD representing P(DLP:2 | DM:2, Sex:2) at 0x2678877ce80>,\n",
       " <TabularCPD representing P(DM:2 | Cath:2, Current Smoker:2) at 0x2678877c358>,\n",
       " <TabularCPD representing P(EX-Smoker:2 | Sex:2) at 0x267887814e0>,\n",
       " <TabularCPD representing P(FBSC:3 | DM:2) at 0x267887811d0>,\n",
       " <TabularCPD representing P(HTN:2 | Cath:2) at 0x26788781860>,\n",
       " <TabularCPD representing P(LengthC:3 | Sex:2) at 0x26788781d30>,\n",
       " <TabularCPD representing P(Nonanginal:2 | Typical Chest Pain:2) at 0x26788789f60>,\n",
       " <TabularCPD representing P(Obesity:2 | BMIC:3) at 0x26788789e80>,\n",
       " <TabularCPD representing P(Sex:2) at 0x26788789e10>,\n",
       " <TabularCPD representing P(Typical Chest Pain:2) at 0x26788789ac8>,\n",
       " <TabularCPD representing P(WeightC:3 | LengthC:3) at 0x26788789978>]"
      ]
     },
     "execution_count": 36,
     "metadata": {},
     "output_type": "execute_result"
    }
   ],
   "source": [
    "learn = MaximumLikelihoodEstimator(model1,df_col3)\n",
    "learn.get_parameters()"
   ]
  },
  {
   "cell_type": "code",
   "execution_count": 37,
   "metadata": {},
   "outputs": [
    {
     "name": "stderr",
     "output_type": "stream",
     "text": [
      "100%|██████████| 71/71 [00:04<00:00, 14.92it/s]\n"
     ]
    }
   ],
   "source": [
    "Cath_predict_values = model1.predict(x_test)"
   ]
  },
  {
   "cell_type": "code",
   "execution_count": 38,
   "metadata": {},
   "outputs": [],
   "source": [
    "Cath_predict_values_array = Cath_predict_values.Cath.values\n",
    "y_test_array = y_test.Cath.values"
   ]
  },
  {
   "cell_type": "code",
   "execution_count": 39,
   "metadata": {},
   "outputs": [],
   "source": [
    "from sklearn.metrics import precision_score, recall_score, f1_score,confusion_matrix "
   ]
  },
  {
   "cell_type": "code",
   "execution_count": 40,
   "metadata": {},
   "outputs": [
    {
     "data": {
      "text/plain": [
       "array([[28,  3],\n",
       "       [ 4, 38]], dtype=int64)"
      ]
     },
     "execution_count": 40,
     "metadata": {},
     "output_type": "execute_result"
    }
   ],
   "source": [
    "confusion_matrix(y_test_array, Cath_predict_values_array)"
   ]
  },
  {
   "cell_type": "code",
   "execution_count": 41,
   "metadata": {},
   "outputs": [],
   "source": [
    "from sklearn import metrics\n",
    "from sklearn.metrics import classification_report"
   ]
  },
  {
   "cell_type": "code",
   "execution_count": 43,
   "metadata": {},
   "outputs": [
    {
     "name": "stdout",
     "output_type": "stream",
     "text": [
      "accuracy 0.9041095890410958\n",
      "Recall 0.9047619047619048\n"
     ]
    }
   ],
   "source": [
    "print('accuracy %s' %metrics.accuracy_score(y_test_array,Cath_predict_values_array))\n",
    "print('Recall %s' %metrics.recall_score(y_test_array,Cath_predict_values_array))"
   ]
  },
  {
   "cell_type": "code",
   "execution_count": 44,
   "metadata": {},
   "outputs": [
    {
     "name": "stdout",
     "output_type": "stream",
     "text": [
      "              precision    recall  f1-score   support\n",
      "\n",
      "           0       0.88      0.90      0.89        31\n",
      "           1       0.93      0.90      0.92        42\n",
      "\n",
      "    accuracy                           0.90        73\n",
      "   macro avg       0.90      0.90      0.90        73\n",
      "weighted avg       0.90      0.90      0.90        73\n",
      "\n"
     ]
    }
   ],
   "source": [
    " print(classification_report(y_test_array, Cath_predict_values_array))"
   ]
  },
  {
   "cell_type": "code",
   "execution_count": 45,
   "metadata": {},
   "outputs": [
    {
     "name": "stdout",
     "output_type": "stream",
     "text": [
      "       Cath_0    Cath_1\n",
      "332  0.916266  0.083734\n",
      "217  0.120598  0.879402\n",
      "400  0.155318  0.844682\n",
      "280  0.953104  0.046896\n",
      "108  0.027511  0.972489\n",
      "..        ...       ...\n",
      "307  0.916266  0.083734\n",
      "27   0.002676  0.997324\n",
      "364  0.176368  0.823632\n",
      "158  0.033839  0.966161\n",
      "328  0.916266  0.083734\n",
      "\n",
      "[73 rows x 2 columns]\n",
      "<class 'pandas.core.frame.DataFrame'>\n",
      "[332, 217, 400, 280, 108, 139, 274, 195, 272, 174, 168, 201, 123, 69, 14, 238, 88, 222, 348, 110, 94, 268, 389, 326, 298, 91, 190, 281, 302, 145, 251, 18, 320, 362, 34, 369, 38, 82, 308, 63, 66, 327, 270, 50, 107, 59, 26, 207, 161, 373, 275, 216, 112, 182, 122, 213, 117, 233, 179, 140, 292, 2, 13, 323, 73, 304, 388, 95, 307, 27, 364, 158, 328]\n"
     ]
    }
   ],
   "source": [
    "yy_prob = model1.predict_probability(x_test)\n",
    "print(yy_prob)\n",
    "print(type(yy_prob))\n",
    "print(list(yy_prob.index.values))"
   ]
  },
  {
   "cell_type": "code",
   "execution_count": 46,
   "metadata": {},
   "outputs": [
    {
     "name": "stdout",
     "output_type": "stream",
     "text": [
      "     Cath_0  Cath_1\n",
      "332    True   False\n",
      "217   False    True\n",
      "400   False    True\n",
      "280    True   False\n",
      "108   False    True\n",
      "..      ...     ...\n",
      "307    True   False\n",
      "27    False    True\n",
      "364   False    True\n",
      "158   False    True\n",
      "328    True   False\n",
      "\n",
      "[73 rows x 2 columns]\n"
     ]
    }
   ],
   "source": [
    "yyy = (yy_prob>=0.30)\n",
    "print(yyy)"
   ]
  },
  {
   "cell_type": "code",
   "execution_count": 47,
   "metadata": {},
   "outputs": [
    {
     "name": "stdout",
     "output_type": "stream",
     "text": [
      "332    False\n",
      "217     True\n",
      "400     True\n",
      "280    False\n",
      "108     True\n",
      "       ...  \n",
      "307    False\n",
      "27      True\n",
      "364     True\n",
      "158     True\n",
      "328    False\n",
      "Name: Cath_1, Length: 73, dtype: bool\n",
      "<class 'pandas.core.series.Series'>\n"
     ]
    }
   ],
   "source": [
    "new = yyy[\"Cath_1\"] != False\n",
    "print(new)\n",
    "print(type(new))"
   ]
  },
  {
   "cell_type": "code",
   "execution_count": 48,
   "metadata": {},
   "outputs": [
    {
     "name": "stdout",
     "output_type": "stream",
     "text": [
      "[217, 400, 108, 195, 174, 168, 201, 123, 69, 14, 238, 222, 110, 94, 389, 190, 302, 145, 18, 362, 34, 369, 38, 82, 63, 66, 50, 107, 59, 26, 207, 161, 373, 216, 112, 182, 213, 117, 140, 2, 13, 73, 304, 388, 95, 27, 364, 158]\n",
      "48\n"
     ]
    }
   ],
   "source": [
    "trueVal = list()\n",
    "for val in new.iteritems():\n",
    "    if(val[1]==True): \n",
    "        trueVal.append(val[0])\n",
    "print(trueVal)\n",
    "print(len(trueVal))"
   ]
  },
  {
   "cell_type": "code",
   "execution_count": 49,
   "metadata": {},
   "outputs": [
    {
     "name": "stdout",
     "output_type": "stream",
     "text": [
      "     Atypical  Age  Sex  Obesity        BMI  DM  FBS  Typical Chest Pain  \\\n",
      "0           0   53    0        1  29.387755   0   90                   0   \n",
      "1           0   67    1        1  28.398718   0   80                   1   \n",
      "2           0   54    0        0  20.077335   0   85                   1   \n",
      "3           0   66    1        1  26.838648   0   78                   0   \n",
      "4           0   50    1        1  37.165193   0  104                   0   \n",
      "..        ...  ...  ...      ...        ...  ..  ...                 ...   \n",
      "298         0   58    0        1  29.761905   0   92                   1   \n",
      "299         1   55    1        1  27.700831   0   86                   0   \n",
      "300         0   48    1        1  30.078125   0   83                   0   \n",
      "301         1   57    1        1  35.599858   1   96                   0   \n",
      "302         0   56    1        1  29.411765   0   78                   1   \n",
      "\n",
      "     Weight  Length  ...  Nonanginal  HTN   BP  Q Wave  St Elevation  \\\n",
      "0        90     175  ...           0    1  110       0             0   \n",
      "1        70     157  ...           0    1  140       0             0   \n",
      "2        54     164  ...           0    0  100       0             0   \n",
      "3        67     158  ...           1    1  100       0             0   \n",
      "4        87     153  ...           0    1  110       0             0   \n",
      "..      ...     ...  ...         ...  ...  ...     ...           ...   \n",
      "298      84     168  ...           0    0  100       0             0   \n",
      "299      64     152  ...           0    0  100       0             0   \n",
      "300      77     160  ...           1    1  130       0             0   \n",
      "301      90     159  ...           0    0  100       0             0   \n",
      "302      85     170  ...           0    1  120       0             0   \n",
      "\n",
      "     St Depression  Tinversion  LVH  Poor R Progression  Cath  \n",
      "0                1           1    0                   0     1  \n",
      "1                1           1    0                   0     1  \n",
      "2                0           0    0                   0     1  \n",
      "3                1           0    0                   0     0  \n",
      "4                0           0    0                   0     0  \n",
      "..             ...         ...  ...                 ...   ...  \n",
      "298              0           0    0                   0     1  \n",
      "299              0           0    0                   0     0  \n",
      "300              0           0    0                   0     0  \n",
      "301              0           0    0                   0     0  \n",
      "302              0           1    0                   0     1  \n",
      "\n",
      "[303 rows x 26 columns]\n"
     ]
    }
   ],
   "source": [
    "#print(data2.head(10))\n",
    "data3 = pd.read_csv(\"F:/ME/Sem 3/demo6.csv\") \n",
    "print(data3)"
   ]
  },
  {
   "cell_type": "code",
   "execution_count": 50,
   "metadata": {},
   "outputs": [],
   "source": [
    "from sklearn.model_selection import train_test_split\n",
    "x=data3.iloc[:,:-1]\n",
    "y=data3.iloc[:,-1]"
   ]
  },
  {
   "cell_type": "code",
   "execution_count": 51,
   "metadata": {},
   "outputs": [],
   "source": [
    "x_train, x_test, y_train, y_test = train_test_split(x,y,train_size=0.82,random_state=23)"
   ]
  },
  {
   "cell_type": "code",
   "execution_count": 52,
   "metadata": {},
   "outputs": [],
   "source": [
    "def resamplingDataPrep(X_train, y_train, target_var): \n",
    "    # concatenate our training data back together\n",
    "    resampling = X_train.copy()\n",
    "    resampling[target_var] = y_train.values\n",
    "    # separate minority and majority classes\n",
    "    majority_class = resampling[resampling[target_var]==0]\n",
    "    minority_class = resampling[resampling[target_var]==1]\n",
    "    # Get a class count to understand the class imbalance.\n",
    "    print('majority_class: '+ str(len(majority_class)))\n",
    "    print('minority_class: '+ str(len(minority_class)))\n",
    "    return majority_class, minority_class"
   ]
  },
  {
   "cell_type": "code",
   "execution_count": 53,
   "metadata": {},
   "outputs": [],
   "source": [
    "def upsample_SMOTE(X_train, y_train, ratio=1.0):\n",
    "    \"\"\"Upsamples minority class using SMOTE.\n",
    "    Ratio argument is the percentage of the upsampled minority class in relation\n",
    "    to the majority class. Default is 1.0\n",
    "    \"\"\"\n",
    "    sm = SMOTE(random_state=23, sampling_strategy=ratio)\n",
    "    X_train_sm, y_train_sm = sm.fit_resample(X_train, y_train)\n",
    "    print(len(X_train_sm), len(y_train_sm))\n",
    "    return X_train_sm, y_train_sm"
   ]
  },
  {
   "cell_type": "code",
   "execution_count": 54,
   "metadata": {},
   "outputs": [
    {
     "name": "stdout",
     "output_type": "stream",
     "text": [
      "majority_class: 73\n",
      "minority_class: 175\n"
     ]
    },
    {
     "data": {
      "text/plain": [
       "(     Atypical  Age  Sex  Obesity        BMI  DM  FBS  Typical Chest Pain  \\\n",
       " 296         1   42    0        0  23.711845   0  202                   0   \n",
       " 64          0   55    0        1  29.411765   0   90                   0   \n",
       " 193         1   64    1        1  31.611773   1  300                   0   \n",
       " 8           0   58    1        1  31.615793   0   69                   0   \n",
       " 16          0   41    0        0  23.808690   0   65                   0   \n",
       " ..        ...  ...  ...      ...        ...  ..  ...                 ...   \n",
       " 48          0   53    1        1  25.721032   0   84                   0   \n",
       " 293         1   59    0        1  31.248764   0   90                   0   \n",
       " 192         1   54    0        0  24.910767   0   94                   0   \n",
       " 194         1   46    1        1  28.515625   0   94                   0   \n",
       " 153         1   63    1        1  25.000000   1  156                   0   \n",
       " \n",
       "      Weight  Length  ...  Nonanginal  HTN   BP  Q Wave  St Elevation  \\\n",
       " 296      63     163  ...           0    0  120       0             0   \n",
       " 64       85     170  ...           1    0  110       0             0   \n",
       " 193      74     153  ...           0    0  110       0             0   \n",
       " 8        84     163  ...           1    0   90       0             0   \n",
       " 16       68     169  ...           0    0  130       0             0   \n",
       " ..      ...     ...  ...         ...  ...  ...     ...           ...   \n",
       " 48       61     154  ...           0    0  135       0             0   \n",
       " 293      79     159  ...           0    0  100       0             0   \n",
       " 192      67     164  ...           0    0  110       0             0   \n",
       " 194      73     160  ...           0    0  130       0             0   \n",
       " 153      64     160  ...           0    1  140       0             0   \n",
       " \n",
       "      St Depression  Tinversion  LVH  Poor R Progression  Cath  \n",
       " 296              0           0    0                   0     0  \n",
       " 64               0           0    0                   0     0  \n",
       " 193              0           0    0                   0     0  \n",
       " 8                0           0    0                   0     0  \n",
       " 16               0           0    0                   0     0  \n",
       " ..             ...         ...  ...                 ...   ...  \n",
       " 48               0           0    0                   0     0  \n",
       " 293              0           0    0                   0     0  \n",
       " 192              0           0    0                   0     0  \n",
       " 194              0           0    0                   0     0  \n",
       " 153              0           0    0                   0     0  \n",
       " \n",
       " [73 rows x 26 columns],\n",
       "      Atypical  Age  Sex  Obesity        BMI  DM  FBS  Typical Chest Pain  \\\n",
       " 180         1   62    0        1  32.283058   0   90                   0   \n",
       " 59          0   56    1        0  21.093750   0   97                   1   \n",
       " 19          0   65    1        1  32.000000   1  227                   1   \n",
       " 45          0   51    0        0  24.622961   0   80                   1   \n",
       " 131         0   55    0        0  24.021276   1  174                   1   \n",
       " ..        ...  ...  ...      ...        ...  ..  ...                 ...   \n",
       " 237         0   47    0        1  25.209201   0   84                   1   \n",
       " 31          0   52    0        0  22.839506   1  225                   1   \n",
       " 40          0   76    0        1  25.725517   0   90                   0   \n",
       " 230         0   75    0        0  24.441802   0   79                   1   \n",
       " 83          0   57    1        1  33.782262   0  145                   0   \n",
       " \n",
       "      Weight  Length  ...  Nonanginal  HTN   BP  Q Wave  St Elevation  \\\n",
       " 180     100     176  ...           0    0  120       0             0   \n",
       " 59       54     160  ...           0    1  150       0             0   \n",
       " 19       72     150  ...           0    1  150       0             0   \n",
       " 45       72     171  ...           0    0  110       1             0   \n",
       " 131      84     187  ...           0    0  130       0             0   \n",
       " ..      ...     ...  ...         ...  ...  ...     ...           ...   \n",
       " 237      72     169  ...           0    0  100       0             0   \n",
       " 31       74     180  ...           0    1  130       0             0   \n",
       " 40       89     186  ...           0    1  160       0             0   \n",
       " 230      74     174  ...           0    1  140       0             0   \n",
       " 83       75     149  ...           0    1  130       0             0   \n",
       " \n",
       "      St Depression  Tinversion  LVH  Poor R Progression  Cath  \n",
       " 180              0           0    0                   0     1  \n",
       " 59               0           0    0                   0     1  \n",
       " 19               1           0    0                   0     1  \n",
       " 45               1           0    0                   0     1  \n",
       " 131              0           0    0                   0     1  \n",
       " ..             ...         ...  ...                 ...   ...  \n",
       " 237              1           0    0                   0     1  \n",
       " 31               1           0    0                   0     1  \n",
       " 40               0           0    0                   0     1  \n",
       " 230              1           1    0                   0     1  \n",
       " 83               0           0    0                   0     1  \n",
       " \n",
       " [175 rows x 26 columns])"
      ]
     },
     "execution_count": 54,
     "metadata": {},
     "output_type": "execute_result"
    }
   ],
   "source": [
    "resamplingDataPrep(x_train, y_train, 'Cath')"
   ]
  },
  {
   "cell_type": "code",
   "execution_count": 55,
   "metadata": {},
   "outputs": [
    {
     "name": "stdout",
     "output_type": "stream",
     "text": [
      "350 350\n"
     ]
    }
   ],
   "source": [
    "xx, yy = upsample_SMOTE(x_train,y_train)"
   ]
  },
  {
   "cell_type": "code",
   "execution_count": 56,
   "metadata": {},
   "outputs": [
    {
     "name": "stdout",
     "output_type": "stream",
     "text": [
      "     Atypical  Age  Sex  Obesity        BMI  DM  FBS  Typical Chest Pain  \\\n",
      "0           1   62    0        1  32.283058   0   90                   0   \n",
      "1           0   56    1        0  21.093750   0   97                   1   \n",
      "2           0   65    1        1  32.000000   1  227                   1   \n",
      "3           1   42    0        0  23.711845   0  202                   0   \n",
      "4           0   55    0        1  29.411765   0   90                   0   \n",
      "..        ...  ...  ...      ...        ...  ..  ...                 ...   \n",
      "345         0   64    0        1  31.227103   0   92                   0   \n",
      "346         0   55    0        0  24.864239   0   78                   0   \n",
      "347         0   50    0        0  25.135547   0   88                   0   \n",
      "348         1   48    1        0  26.354425   0   94                   0   \n",
      "349         0   41    0        0  32.452126   0   90                   0   \n",
      "\n",
      "     Weight  Length  ...  BUN  Nonanginal  HTN   BP  Q Wave  St Elevation  \\\n",
      "0       100     176  ...   14           0    0  120       0             0   \n",
      "1        54     160  ...   10           0    1  150       0             0   \n",
      "2        72     150  ...   18           0    1  150       0             0   \n",
      "3        63     163  ...   19           0    0  120       0             0   \n",
      "4        85     170  ...   15           1    0  110       0             0   \n",
      "..      ...     ...  ...  ...         ...  ...  ...     ...           ...   \n",
      "345      76     156  ...   11           0    0  106       0             0   \n",
      "346      66     163  ...   18           0    0  120       0             0   \n",
      "347      77     175  ...   13           0    1  132       0             0   \n",
      "348      66     158  ...   18           0    0  124       0             0   \n",
      "349      73     150  ...   10           0    1  175       0             0   \n",
      "\n",
      "     St Depression  Tinversion  LVH  Poor R Progression  \n",
      "0                0           0    0                   0  \n",
      "1                0           0    0                   0  \n",
      "2                1           0    0                   0  \n",
      "3                0           0    0                   0  \n",
      "4                0           0    0                   0  \n",
      "..             ...         ...  ...                 ...  \n",
      "345              0           0    0                   0  \n",
      "346              0           0    0                   0  \n",
      "347              0           0    0                   0  \n",
      "348              0           0    0                   0  \n",
      "349              0           0    0                   0  \n",
      "\n",
      "[350 rows x 25 columns]\n",
      "0      1\n",
      "1      1\n",
      "2      1\n",
      "3      0\n",
      "4      0\n",
      "      ..\n",
      "345    0\n",
      "346    0\n",
      "347    0\n",
      "348    0\n",
      "349    0\n",
      "Name: Cath, Length: 350, dtype: int64\n",
      "<class 'pandas.core.frame.DataFrame'>\n",
      "<class 'pandas.core.series.Series'>\n"
     ]
    }
   ],
   "source": [
    "print(xx)\n",
    "print(yy)\n",
    "print(type(xx))\n",
    "print(type(yy))"
   ]
  },
  {
   "cell_type": "code",
   "execution_count": 57,
   "metadata": {},
   "outputs": [],
   "source": [
    "ef_col = pd.concat([xx,yy], axis=1)"
   ]
  },
  {
   "cell_type": "code",
   "execution_count": 58,
   "metadata": {},
   "outputs": [
    {
     "name": "stdout",
     "output_type": "stream",
     "text": [
      "     Atypical  Age  Sex  Obesity        BMI  DM  FBS  Typical Chest Pain  \\\n",
      "0           1   62    0        1  32.283058   0   90                   0   \n",
      "1           0   56    1        0  21.093750   0   97                   1   \n",
      "2           0   65    1        1  32.000000   1  227                   1   \n",
      "3           1   42    0        0  23.711845   0  202                   0   \n",
      "4           0   55    0        1  29.411765   0   90                   0   \n",
      "..        ...  ...  ...      ...        ...  ..  ...                 ...   \n",
      "345         0   64    0        1  31.227103   0   92                   0   \n",
      "346         0   55    0        0  24.864239   0   78                   0   \n",
      "347         0   50    0        0  25.135547   0   88                   0   \n",
      "348         1   48    1        0  26.354425   0   94                   0   \n",
      "349         0   41    0        0  32.452126   0   90                   0   \n",
      "\n",
      "     Weight  Length  ...  Nonanginal  HTN   BP  Q Wave  St Elevation  \\\n",
      "0       100     176  ...           0    0  120       0             0   \n",
      "1        54     160  ...           0    1  150       0             0   \n",
      "2        72     150  ...           0    1  150       0             0   \n",
      "3        63     163  ...           0    0  120       0             0   \n",
      "4        85     170  ...           1    0  110       0             0   \n",
      "..      ...     ...  ...         ...  ...  ...     ...           ...   \n",
      "345      76     156  ...           0    0  106       0             0   \n",
      "346      66     163  ...           0    0  120       0             0   \n",
      "347      77     175  ...           0    1  132       0             0   \n",
      "348      66     158  ...           0    0  124       0             0   \n",
      "349      73     150  ...           0    1  175       0             0   \n",
      "\n",
      "     St Depression  Tinversion  LVH  Poor R Progression  Cath  \n",
      "0                0           0    0                   0     1  \n",
      "1                0           0    0                   0     1  \n",
      "2                1           0    0                   0     1  \n",
      "3                0           0    0                   0     0  \n",
      "4                0           0    0                   0     0  \n",
      "..             ...         ...  ...                 ...   ...  \n",
      "345              0           0    0                   0     0  \n",
      "346              0           0    0                   0     0  \n",
      "347              0           0    0                   0     0  \n",
      "348              0           0    0                   0     0  \n",
      "349              0           0    0                   0     0  \n",
      "\n",
      "[350 rows x 26 columns]\n"
     ]
    }
   ],
   "source": [
    "print(ef_col)"
   ]
  },
  {
   "cell_type": "code",
   "execution_count": 59,
   "metadata": {},
   "outputs": [
    {
     "name": "stdout",
     "output_type": "stream",
     "text": [
      "     Atypical  Age  Sex  Obesity        BMI  DM  FBS  Typical Chest Pain  \\\n",
      "231         0   64    0        0  24.897060   1  219                   1   \n",
      "46          0   57    1        1  30.863007   0  106                   1   \n",
      "2           0   54    0        0  20.077335   0   85                   1   \n",
      "272         0   76    0        0  22.308150   0   96                   0   \n",
      "243         0   72    1        1  26.222685   0   89                   1   \n",
      "82          1   86    0        0  24.386526   1  270                   0   \n",
      "63          0   68    1        1  34.808750   1   96                   0   \n",
      "38          0   76    0        0  21.077195   1  230                   0   \n",
      "274         0   55    1        1  31.555556   1  256                   1   \n",
      "285         1   56    1        0  24.034610   0  104                   0   \n",
      "74          0   60    1        1  25.558846   1  191                   1   \n",
      "240         0   67    0        0  21.138856   1   94                   1   \n",
      "220         0   68    0        1  29.320988   0  111                   1   \n",
      "255         0   38    0        1  26.259585   0   97                   0   \n",
      "14          1   66    1        1  26.222685   1  213                   0   \n",
      "141         0   46    1        1  31.111111   1  144                   1   \n",
      "288         1   67    1        1  30.222222   0   98                   0   \n",
      "222         0   62    0        0  24.304618   1  180                   0   \n",
      "300         0   48    1        1  30.078125   0   83                   0   \n",
      "178         0   66    0        1  26.672763   0   94                   1   \n",
      "277         0   75    1        0  22.656250   0   87                   1   \n",
      "201         1   44    0        1  29.017447   1   96                   0   \n",
      "164         0   74    0        1  31.179138   0  117                   1   \n",
      "155         0   58    0        1  30.470522   0  100                   1   \n",
      "145         0   71    1        0  21.484375   1  130                   0   \n",
      "270         1   48    1        1  28.685145   0   83                   0   \n",
      "73          0   60    0        1  29.053288   0  104                   1   \n",
      "152         0   65    1        1  33.320518   0  103                   1   \n",
      "242         0   55    0        1  28.401111   0   94                   1   \n",
      "253         0   49    0        1  26.122449   0   91                   1   \n",
      "137         1   43    0        0  24.049344   1  168                   0   \n",
      "232         0   48    1        1  40.900658   1  212                   1   \n",
      "135         0   60    0        1  30.486685   0   91                   1   \n",
      "143         1   52    1        1  28.444444   0   92                   0   \n",
      "97          1   77    0        0  21.971336   0   98                   0   \n",
      "174         0   63    0        1  28.734694   1  142                   1   \n",
      "44          0   73    1        1  25.109569   1   62                   0   \n",
      "210         1   46    0        0  23.620288   0   77                   0   \n",
      "107         1   75    0        1  27.120316   0   90                   0   \n",
      "281         1   71    1        1  28.353057   1  160                   0   \n",
      "10          0   58    0        1  26.573129   0  101                   1   \n",
      "226         0   77    0        1  28.393726   0   94                   1   \n",
      "216         1   64    0        1  34.894399   0   93                   0   \n",
      "123         1   76    0        1  25.315454   0  119                   0   \n",
      "132         0   49    0        1  26.989619   0   96                   1   \n",
      "175         0   53    0        1  34.086605   0  108                   1   \n",
      "179         1   49    0        1  26.004383   0   90                   0   \n",
      "95          0   48    0        0  21.887076   0  114                   1   \n",
      "122         1   70    0        1  27.776911   0  100                   0   \n",
      "183         0   66    1        1  33.163265   0   88                   1   \n",
      "75          0   49    1        1  25.402816   0  103                   1   \n",
      "256         1   52    0        1  28.228386   0   84                   0   \n",
      "200         0   57    1        1  31.887755   0  114                   1   \n",
      "92          0   59    0        1  26.573129   0  111                   1   \n",
      "28          0   80    1        0  23.283419   0   94                   1   \n",
      "\n",
      "     Weight  Length  ...  Nonanginal  HTN   BP  Q Wave  St Elevation  \\\n",
      "231      78     177  ...           0    1  130       0             0   \n",
      "46       80     161  ...           0    1  140       0             0   \n",
      "2        54     164  ...           0    0  100       0             0   \n",
      "272      60     164  ...           0    0  130       0             0   \n",
      "243      63     155  ...           0    1  110       0             0   \n",
      "82       64     162  ...           0    1  160       0             0   \n",
      "63       88     159  ...           0    1  160       0             0   \n",
      "38       56     163  ...           0    0  100       0             0   \n",
      "274      71     150  ...           0    1  150       0             0   \n",
      "285      60     158  ...           0    0  100       0             0   \n",
      "74       63     157  ...           0    1  150       1             1   \n",
      "240      64     174  ...           0    1  130       0             0   \n",
      "220      95     180  ...           0    1  110       0             0   \n",
      "255      75     169  ...           1    0  130       0             0   \n",
      "14       63     155  ...           0    1  130       0             0   \n",
      "141      70     150  ...           0    1  140       0             0   \n",
      "288      68     150  ...           0    1  140       0             0   \n",
      "222      63     161  ...           0    1  150       0             0   \n",
      "300      77     160  ...           1    1  130       0             0   \n",
      "178      70     162  ...           0    1  130       0             0   \n",
      "277      58     160  ...           0    1  140       0             0   \n",
      "201      79     165  ...           0    1  160       0             0   \n",
      "164      88     168  ...           0    1  140       0             0   \n",
      "155      86     168  ...           0    0  120       0             0   \n",
      "145      55     160  ...           1    1  120       0             0   \n",
      "270      80     167  ...           0    0  130       0             0   \n",
      "73       82     168  ...           0    1  180       0             0   \n",
      "152      78     153  ...           0    1  120       0             0   \n",
      "242      91     179  ...           0    0  120       0             0   \n",
      "253      80     175  ...           0    1  135       0             0   \n",
      "137      85     188  ...           0    0  130       0             0   \n",
      "232      97     154  ...           0    0  120       0             0   \n",
      "135      83     165  ...           0    0  130       0             0   \n",
      "143      64     150  ...           0    0   90       0             0   \n",
      "97       65     172  ...           0    1  125       0             0   \n",
      "174      88     175  ...           0    1  140       0             0   \n",
      "44       55     148  ...           0    1  120       0             0   \n",
      "210      74     177  ...           0    0  110       0             0   \n",
      "107      66     156  ...           0    1  130       0             0   \n",
      "281      69     156  ...           0    1  160       0             0   \n",
      "10       75     168  ...           0    1  170       0             0   \n",
      "226      84     172  ...           0    1  120       0             0   \n",
      "216      95     165  ...           0    0  110       0             0   \n",
      "123      64     159  ...           0    1  115       0             0   \n",
      "132      78     170  ...           0    0  130       0             1   \n",
      "175     108     178  ...           0    0  120       0             0   \n",
      "179      89     185  ...           0    1  130       0             0   \n",
      "95       64     171  ...           0    0  120       0             0   \n",
      "122      89     179  ...           0    1  150       0             0   \n",
      "183      65     140  ...           0    1  115       0             0   \n",
      "75       70     166  ...           0    1  120       0             0   \n",
      "256      75     163  ...           0    0  100       0             0   \n",
      "200      90     168  ...           0    1  130       0             0   \n",
      "92       75     168  ...           0    1  110       0             0   \n",
      "28       51     148  ...           0    1  160       0             0   \n",
      "\n",
      "     St Depression  Tinversion  LVH  Poor R Progression  Cath  \n",
      "231              0           0    0                   0     1  \n",
      "46               0           0    1                   0     1  \n",
      "2                0           0    0                   0     1  \n",
      "272              1           0    0                   0     0  \n",
      "243              0           0    0                   0     1  \n",
      "82               0           0    0                   0     1  \n",
      "63               0           0    0                   0     1  \n",
      "38               1           0    0                   0     1  \n",
      "274              1           1    0                   0     1  \n",
      "285              0           0    0                   0     0  \n",
      "74               0           0    0                   0     1  \n",
      "240              1           1    0                   0     1  \n",
      "220              0           0    1                   0     1  \n",
      "255              0           0    0                   0     0  \n",
      "14               1           0    0                   0     1  \n",
      "141              0           0    0                   0     1  \n",
      "288              0           0    1                   0     1  \n",
      "222              0           0    0                   0     1  \n",
      "300              0           0    0                   0     0  \n",
      "178              0           0    0                   0     1  \n",
      "277              0           1    0                   0     1  \n",
      "201              0           0    0                   0     0  \n",
      "164              0           0    1                   0     1  \n",
      "155              0           0    0                   0     1  \n",
      "145              0           0    0                   0     1  \n",
      "270              0           0    0                   0     0  \n",
      "73               0           0    1                   0     1  \n",
      "152              1           0    0                   0     1  \n",
      "242              0           1    0                   0     1  \n",
      "253              0           0    0                   0     1  \n",
      "137              0           0    0                   0     0  \n",
      "232              0           0    0                   0     1  \n",
      "135              1           0    0                   0     1  \n",
      "143              0           0    0                   0     0  \n",
      "97               0           1    0                   0     1  \n",
      "174              0           1    0                   1     1  \n",
      "44               0           1    0                   0     1  \n",
      "210              0           0    0                   0     0  \n",
      "107              0           0    0                   0     1  \n",
      "281              1           0    0                   0     1  \n",
      "10               0           0    0                   0     1  \n",
      "226              0           1    0                   0     1  \n",
      "216              1           1    0                   0     0  \n",
      "123              1           1    0                   0     1  \n",
      "132              0           1    0                   0     1  \n",
      "175              0           0    0                   0     0  \n",
      "179              0           0    0                   0     0  \n",
      "95               0           1    0                   0     1  \n",
      "122              0           0    1                   0     1  \n",
      "183              0           0    0                   0     0  \n",
      "75               0           0    0                   0     1  \n",
      "256              0           0    0                   0     0  \n",
      "200              1           0    0                   0     1  \n",
      "92               1           1    0                   0     1  \n",
      "28               1           0    0                   0     1  \n",
      "\n",
      "[55 rows x 26 columns]\n",
      "55\n"
     ]
    }
   ],
   "source": [
    "ef_col2 = pd.concat([x_test,y_test], axis=1)\n",
    "print(ef_col2)\n",
    "print(len(ef_col2))"
   ]
  },
  {
   "cell_type": "code",
   "execution_count": 60,
   "metadata": {},
   "outputs": [
    {
     "name": "stdout",
     "output_type": "stream",
     "text": [
      "     Atypical  Age  Sex  Obesity        BMI  DM  FBS  Typical Chest Pain  \\\n",
      "0           1   62    0        1  32.283058   0   90                   0   \n",
      "1           0   56    1        0  21.093750   0   97                   1   \n",
      "2           0   65    1        1  32.000000   1  227                   1   \n",
      "3           1   42    0        0  23.711845   0  202                   0   \n",
      "4           0   55    0        1  29.411765   0   90                   0   \n",
      "..        ...  ...  ...      ...        ...  ..  ...                 ...   \n",
      "400         0   49    1        1  25.402816   0  103                   1   \n",
      "401         1   52    0        1  28.228386   0   84                   0   \n",
      "402         0   57    1        1  31.887755   0  114                   1   \n",
      "403         0   59    0        1  26.573129   0  111                   1   \n",
      "404         0   80    1        0  23.283419   0   94                   1   \n",
      "\n",
      "     Weight  Length  ...  Nonanginal  HTN   BP  Q Wave  St Elevation  \\\n",
      "0       100     176  ...           0    0  120       0             0   \n",
      "1        54     160  ...           0    1  150       0             0   \n",
      "2        72     150  ...           0    1  150       0             0   \n",
      "3        63     163  ...           0    0  120       0             0   \n",
      "4        85     170  ...           1    0  110       0             0   \n",
      "..      ...     ...  ...         ...  ...  ...     ...           ...   \n",
      "400      70     166  ...           0    1  120       0             0   \n",
      "401      75     163  ...           0    0  100       0             0   \n",
      "402      90     168  ...           0    1  130       0             0   \n",
      "403      75     168  ...           0    1  110       0             0   \n",
      "404      51     148  ...           0    1  160       0             0   \n",
      "\n",
      "     St Depression  Tinversion  LVH  Poor R Progression  Cath  \n",
      "0                0           0    0                   0     1  \n",
      "1                0           0    0                   0     1  \n",
      "2                1           0    0                   0     1  \n",
      "3                0           0    0                   0     0  \n",
      "4                0           0    0                   0     0  \n",
      "..             ...         ...  ...                 ...   ...  \n",
      "400              0           0    0                   0     1  \n",
      "401              0           0    0                   0     0  \n",
      "402              1           0    0                   0     1  \n",
      "403              1           1    0                   0     1  \n",
      "404              1           0    0                   0     1  \n",
      "\n",
      "[405 rows x 26 columns]\n",
      "405\n",
      "    Atypical  Age  Sex  Obesity        BMI  DM  FBS  Typical Chest Pain  \\\n",
      "0          1   62    0        1  32.283058   0   90                   0   \n",
      "1          0   56    1        0  21.093750   0   97                   1   \n",
      "2          0   65    1        1  32.000000   1  227                   1   \n",
      "3          1   42    0        0  23.711845   0  202                   0   \n",
      "4          0   55    0        1  29.411765   0   90                   0   \n",
      "5          0   51    0        0  24.622961   0   80                   1   \n",
      "6          0   55    0        0  24.021276   1  174                   1   \n",
      "7          0   66    0        1  29.365763   0  120                   1   \n",
      "8          1   64    1        1  31.611773   1  300                   0   \n",
      "9          0   58    1        1  31.615793   0   69                   0   \n",
      "10         0   50    0        0  24.489796   0   86                   1   \n",
      "11         1   49    1        0  22.060354   0  126                   0   \n",
      "12         0   44    1        1  25.683710   1  144                   1   \n",
      "13         0   57    1        1  36.264033   0  119                   0   \n",
      "14         1   70    1        1  28.444444   0  102                   0   \n",
      "15         0   50    1        0  24.538965   1  180                   1   \n",
      "16         0   41    0        0  23.808690   0   65                   0   \n",
      "17         0   80    1        0  24.034407   0  105                   1   \n",
      "18         0   56    0        1  26.573129   0   87                   1   \n",
      "19         1   60    0        0  22.675737   0   84                   0   \n",
      "\n",
      "    Weight  Length  ...  Nonanginal  HTN   BP  Q Wave  St Elevation  \\\n",
      "0      100     176  ...           0    0  120       0             0   \n",
      "1       54     160  ...           0    1  150       0             0   \n",
      "2       72     150  ...           0    1  150       0             0   \n",
      "3       63     163  ...           0    0  120       0             0   \n",
      "4       85     170  ...           1    0  110       0             0   \n",
      "5       72     171  ...           0    0  110       1             0   \n",
      "6       84     187  ...           0    0  130       0             0   \n",
      "7       92     177  ...           0    1  140       0             0   \n",
      "8       74     153  ...           0    0  110       0             0   \n",
      "9       84     163  ...           1    0   90       0             0   \n",
      "10      75     175  ...           0    0  118       0             0   \n",
      "11      53     155  ...           0    0  130       0             0   \n",
      "12      54     145  ...           0    1  130       0             0   \n",
      "13      94     161  ...           0    1  170       0             0   \n",
      "14      64     150  ...           0    1  100       0             0   \n",
      "15      66     164  ...           0    0  130       0             0   \n",
      "16      68     169  ...           0    0  130       0             0   \n",
      "17      57     154  ...           0    0  130       0             0   \n",
      "18      75     168  ...           0    0  130       0             0   \n",
      "19      64     168  ...           0    0  130       0             0   \n",
      "\n",
      "    St Depression  Tinversion  LVH  Poor R Progression  Cath  \n",
      "0               0           0    0                   0     1  \n",
      "1               0           0    0                   0     1  \n",
      "2               1           0    0                   0     1  \n",
      "3               0           0    0                   0     0  \n",
      "4               0           0    0                   0     0  \n",
      "5               1           0    0                   0     1  \n",
      "6               0           0    0                   0     1  \n",
      "7               0           1    0                   0     1  \n",
      "8               0           0    0                   0     0  \n",
      "9               0           0    0                   0     0  \n",
      "10              0           0    0                   0     1  \n",
      "11              1           1    0                   0     1  \n",
      "12              0           0    0                   1     1  \n",
      "13              0           0    1                   0     1  \n",
      "14              0           0    0                   0     1  \n",
      "15              0           1    0                   0     1  \n",
      "16              0           0    0                   0     0  \n",
      "17              1           1    0                   0     1  \n",
      "18              0           0    0                   0     1  \n",
      "19              0           0    0                   0     0  \n",
      "\n",
      "[20 rows x 26 columns]\n"
     ]
    }
   ],
   "source": [
    "ef_col3 = pd.concat([ef_col,ef_col2],ignore_index=True)\n",
    "print(ef_col3)\n",
    "print(len(ef_col3))\n",
    "print(ef_col3.head(20))"
   ]
  },
  {
   "cell_type": "code",
   "execution_count": 61,
   "metadata": {},
   "outputs": [],
   "source": [
    "x=ef_col3.iloc[:,:-1]\n",
    "y=ef_col3.iloc[:,-1]\n",
    "#x = data2.drop(['Cath'],axis=1)\n",
    "#y = data2.drop(['Sex','Obesity','AgeC','BMIC','DM','FBSC','Typical Chest Pain','LengthC','WeightC','Current Smoker','EX-Smoker','DLP','Atypical','Nonanginal','CRC','BPC','HTN','BUNC','Q Wave','St Elevation','St Depression','Tinversion','LVH','Poor R Progression','BBB'],axis=1)\n",
    "x_train,x_test,y_train,y_test=train_test_split(x,y,train_size=0.82,random_state=23)"
   ]
  },
  {
   "cell_type": "code",
   "execution_count": 62,
   "metadata": {},
   "outputs": [
    {
     "name": "stdout",
     "output_type": "stream",
     "text": [
      "332    0\n",
      "217    1\n",
      "400    1\n",
      "280    0\n",
      "108    1\n",
      "      ..\n",
      "307    0\n",
      "27     1\n",
      "364    1\n",
      "158    1\n",
      "328    0\n",
      "Name: Cath, Length: 73, dtype: int64\n"
     ]
    }
   ],
   "source": [
    "print(y_test)"
   ]
  },
  {
   "cell_type": "code",
   "execution_count": 63,
   "metadata": {},
   "outputs": [
    {
     "name": "stdout",
     "output_type": "stream",
     "text": [
      "48\n",
      "     Atypical  Age  Sex  Obesity        BMI  DM  FBS  Typical Chest Pain  \\\n",
      "217         0   65    0        1  27.513385   0   90                   1   \n",
      "400         0   49    1        1  25.402816   0  103                   1   \n",
      "108         0   70    0        0  19.031142   0   78                   1   \n",
      "195         1   43    1        1  37.370242   1  210                   0   \n",
      "174         0   55    0        1  30.739417   0  125                   1   \n",
      "168         0   69    1        0  24.671053   0  100                   1   \n",
      "201         0   54    0        0  24.677021   0   90                   1   \n",
      "123         0   53    1        1  30.832894   1   89                   1   \n",
      "69          0   55    0        0  18.365473   0   89                   1   \n",
      "14          1   70    1        1  28.444444   0  102                   0   \n",
      "238         1   70    1        1  30.700408   1  170                   0   \n",
      "222         0   66    0        0  18.115413   0   76                   1   \n",
      "110         0   71    1        1  32.393910   0   96                   1   \n",
      "94          0   61    0        0  22.432303   0   79                   1   \n",
      "389         1   71    1        1  28.353057   1  160                   0   \n",
      "190         0   47    1        0  19.051974   1   90                   0   \n",
      "302         0   78    0        0  19.800596   0  100                   0   \n",
      "145         0   72    0        1  26.122449   1  130                   1   \n",
      "18          0   56    0        1  26.573129   0   87                   1   \n",
      "362         0   68    0        1  29.320988   0  111                   1   \n",
      "34          0   79    0        0  24.609375   0   75                   1   \n",
      "369         0   66    0        1  26.672763   0   94                   1   \n",
      "38          0   36    1        0  22.038567   1  400                   0   \n",
      "82          0   59    0        1  28.698980   1  218                   1   \n",
      "63          0   62    1        0  24.609375   1  161                   1   \n",
      "66          0   60    1        1  33.497685   1  240                   1   \n",
      "50          0   59    0        1  25.951557   1  197                   1   \n",
      "107         1   64    0        0  23.046875   0  103                   0   \n",
      "59          0   70    1        1  34.666667   1  146                   1   \n",
      "26          0   64    0        0  23.875115   0   88                   1   \n",
      "207         0   55    1        1  33.777778   1  201                   1   \n",
      "161         1   73    0        1  29.357522   0   83                   0   \n",
      "373         0   58    0        1  30.470522   0  100                   1   \n",
      "216         1   53    0        1  25.795918   0   85                   0   \n",
      "112         0   70    0        0  24.314124   0  103                   1   \n",
      "182         0   76    0        0  23.301095   1  136                   0   \n",
      "213         0   65    1        1  27.335640   1  210                   1   \n",
      "117         0   65    0        0  24.724520   1  196                   1   \n",
      "140         1   57    1        1  35.599858   1   96                   0   \n",
      "2           0   65    1        1  32.000000   1  227                   1   \n",
      "13          0   57    1        1  36.264033   0  119                   0   \n",
      "73          0   56    0        1  25.249337   0   90                   1   \n",
      "304         0   54    0        1  25.939625   0   85                   0   \n",
      "388         1   75    0        1  27.120316   0   90                   0   \n",
      "95          0   62    1        1  34.244991   0  106                   1   \n",
      "27          0   68    1        1  26.666667   1  360                   1   \n",
      "364         1   66    1        1  26.222685   1  213                   0   \n",
      "158         0   72    1        1  32.038959   0  160                   1   \n",
      "\n",
      "     Weight  Length  ...  BUN  Nonanginal  HTN   BP  Q Wave  St Elevation  \\\n",
      "217      74     164  ...   19           0    0  110       0             1   \n",
      "400      70     166  ...   14           0    1  120       0             0   \n",
      "108      55     170  ...   13           0    1  140       0             0   \n",
      "195     108     170  ...   15           0    0  110       0             0   \n",
      "174      92     173  ...   14           0    0  120       0             0   \n",
      "168      57     152  ...   24           0    1  140       0             0   \n",
      "201      68     166  ...   14           0    1  140       1             0   \n",
      "123      76     157  ...   18           0    1  130       0             0   \n",
      "69       50     165  ...   15           0    1  150       0             0   \n",
      "14       64     150  ...   22           0    1  100       0             0   \n",
      "238      70     151  ...   12           0    1  140       0             0   \n",
      "222      62     185  ...   15           0    0  120       0             0   \n",
      "110      70     147  ...   15           0    1  120       0             0   \n",
      "94       56     158  ...   16           0    0  100       0             0   \n",
      "389      69     156  ...   12           0    1  160       0             0   \n",
      "190      50     162  ...    9           1    1  120       0             0   \n",
      "302      57     170  ...   29           0    0  110       0             0   \n",
      "145      80     175  ...   19           0    0  130       0             0   \n",
      "18       75     168  ...   18           0    0  130       0             0   \n",
      "362      95     180  ...   40           0    1  110       0             0   \n",
      "34       63     160  ...   14           0    0  130       0             0   \n",
      "369      70     162  ...   32           0    1  130       0             0   \n",
      "38       60     165  ...   15           0    0  125       0             0   \n",
      "82       81     168  ...   16           0    1  120       0             0   \n",
      "63       63     160  ...   12           0    1  140       0             0   \n",
      "66       89     163  ...   16           0    1  110       0             0   \n",
      "50       75     170  ...   20           0    1  150       0             0   \n",
      "107      59     160  ...   17           0    1  130       0             0   \n",
      "59       78     150  ...   12           0    1  180       0             0   \n",
      "26       65     165  ...   13           0    0  130       0             0   \n",
      "207      76     150  ...   20           0    0  120       0             0   \n",
      "161      78     163  ...   23           0    1  140       0             0   \n",
      "373      86     168  ...   17           0    0  120       0             0   \n",
      "216      79     175  ...   14           0    1  140       0             0   \n",
      "112      67     166  ...   17           0    1  160       0             0   \n",
      "182      73     177  ...   52           0    1  130       0             0   \n",
      "213      79     170  ...   17           0    1  170       0             0   \n",
      "117      81     181  ...    9           0    1  110       0             0   \n",
      "140      90     159  ...   14           0    0  100       0             0   \n",
      "2        72     150  ...   18           0    1  150       0             0   \n",
      "13       94     161  ...   32           0    1  170       0             0   \n",
      "73       80     178  ...   15           0    0  130       0             0   \n",
      "304      78     173  ...   13           0    1  138       0             0   \n",
      "388      66     156  ...   21           0    1  130       0             0   \n",
      "95       74     147  ...    8           0    1  160       0             0   \n",
      "27       60     150  ...   52           0    1  130       0             0   \n",
      "364      63     155  ...   12           0    1  130       0             0   \n",
      "158      75     153  ...   15           0    1  190       0             0   \n",
      "\n",
      "     St Depression  Tinversion  LVH  Poor R Progression  \n",
      "217              0           1    0                   0  \n",
      "400              0           0    0                   0  \n",
      "108              0           0    0                   0  \n",
      "195              0           0    0                   0  \n",
      "174              0           0    0                   0  \n",
      "168              0           0    1                   0  \n",
      "201              0           0    0                   0  \n",
      "123              1           1    0                   0  \n",
      "69               0           1    0                   0  \n",
      "14               0           0    0                   0  \n",
      "238              1           1    1                   0  \n",
      "222              0           0    0                   0  \n",
      "110              1           1    0                   0  \n",
      "94               0           1    0                   0  \n",
      "389              1           0    0                   0  \n",
      "190              0           0    0                   0  \n",
      "302              0           0    0                   0  \n",
      "145              1           1    0                   0  \n",
      "18               0           0    0                   0  \n",
      "362              0           0    1                   0  \n",
      "34               0           1    0                   0  \n",
      "369              0           0    0                   0  \n",
      "38               0           1    0                   0  \n",
      "82               0           0    0                   0  \n",
      "63               1           0    0                   0  \n",
      "66               1           0    0                   0  \n",
      "50               0           0    0                   0  \n",
      "107              1           1    0                   0  \n",
      "59               0           0    0                   0  \n",
      "26               0           0    0                   0  \n",
      "207              1           0    0                   0  \n",
      "161              0           1    0                   0  \n",
      "373              0           0    0                   0  \n",
      "216              0           0    0                   0  \n",
      "112              0           0    1                   0  \n",
      "182              1           1    0                   0  \n",
      "213              0           0    0                   0  \n",
      "117              1           0    0                   0  \n",
      "140              0           0    0                   0  \n",
      "2                1           0    0                   0  \n",
      "13               0           0    1                   0  \n",
      "73               0           1    0                   0  \n",
      "304              0           0    0                   0  \n",
      "388              0           0    0                   0  \n",
      "95               0           0    0                   0  \n",
      "27               0           0    0                   1  \n",
      "364              1           0    0                   0  \n",
      "158              1           1    0                   0  \n",
      "\n",
      "[48 rows x 25 columns]\n",
      "217    1\n",
      "400    1\n",
      "108    1\n",
      "195    0\n",
      "174    1\n",
      "168    1\n",
      "201    1\n",
      "123    1\n",
      "69     1\n",
      "14     1\n",
      "238    1\n",
      "222    0\n",
      "110    1\n",
      "94     1\n",
      "389    1\n",
      "190    0\n",
      "302    0\n",
      "145    1\n",
      "18     1\n",
      "362    1\n",
      "34     1\n",
      "369    1\n",
      "38     1\n",
      "82     1\n",
      "63     1\n",
      "66     1\n",
      "50     1\n",
      "107    1\n",
      "59     1\n",
      "26     1\n",
      "207    1\n",
      "161    1\n",
      "373    1\n",
      "216    0\n",
      "112    1\n",
      "182    1\n",
      "213    1\n",
      "117    1\n",
      "140    0\n",
      "2      1\n",
      "13     1\n",
      "73     1\n",
      "304    0\n",
      "388    1\n",
      "95     1\n",
      "27     1\n",
      "364    1\n",
      "158    1\n",
      "Name: Cath, dtype: int64\n"
     ]
    }
   ],
   "source": [
    "rowFinal3 = x_test.loc[ trueVal , : ]\n",
    "rowFinal4 = y_test.loc[ trueVal , ]\n",
    "print(len(trueVal))\n",
    "print(rowFinal3)\n",
    "print(rowFinal4)"
   ]
  },
  {
   "cell_type": "code",
   "execution_count": 64,
   "metadata": {},
   "outputs": [],
   "source": [
    "import xgboost as xgb\n",
    "from sklearn.model_selection import train_test_split\n",
    "x_train,x_test,y_train,y_test=train_test_split(x,y,train_size=0.82,random_state=23)\n",
    "xg_cl=xgb.XGBClassifier(objective='binary:logistic',seed=8)"
   ]
  },
  {
   "cell_type": "code",
   "execution_count": 65,
   "metadata": {},
   "outputs": [
    {
     "data": {
      "text/plain": [
       "XGBClassifier(base_score=0.5, booster='gbtree', colsample_bylevel=1,\n",
       "              colsample_bynode=1, colsample_bytree=1, gamma=0,\n",
       "              learning_rate=0.1, max_delta_step=0, max_depth=3,\n",
       "              min_child_weight=1, missing=None, n_estimators=100, n_jobs=1,\n",
       "              nthread=None, objective='binary:logistic', random_state=0,\n",
       "              reg_alpha=0, reg_lambda=1, scale_pos_weight=1, seed=8,\n",
       "              silent=None, subsample=1, verbosity=1)"
      ]
     },
     "execution_count": 65,
     "metadata": {},
     "output_type": "execute_result"
    }
   ],
   "source": [
    "xg_cl.fit(x_train,y_train)"
   ]
  },
  {
   "cell_type": "code",
   "execution_count": 66,
   "metadata": {},
   "outputs": [
    {
     "data": {
      "text/plain": [
       "0.9375"
      ]
     },
     "execution_count": 66,
     "metadata": {},
     "output_type": "execute_result"
    }
   ],
   "source": [
    "xg_cl.score(rowFinal3,rowFinal4)"
   ]
  },
  {
   "cell_type": "code",
   "execution_count": 67,
   "metadata": {},
   "outputs": [
    {
     "name": "stdout",
     "output_type": "stream",
     "text": [
      "[1 1 1 0 1 1 1 1 1 0 1 1 1 1 1 1 0 1 1 1 1 1 1 1 1 1 1 1 1 1 1 1 1 0 1 1 1\n",
      " 1 0 1 1 1 0 1 1 1 1 1]\n",
      "48\n"
     ]
    }
   ],
   "source": [
    "l = xg_cl.predict(rowFinal3)\n",
    "print(l)\n",
    "print(len(rowFinal3))"
   ]
  },
  {
   "cell_type": "code",
   "execution_count": 68,
   "metadata": {},
   "outputs": [],
   "source": [
    "trueVal3 = list()\n",
    "for val in new.iteritems():\n",
    "    if(val[1]==False): \n",
    "        trueVal3.append(val[0])"
   ]
  },
  {
   "cell_type": "code",
   "execution_count": 69,
   "metadata": {},
   "outputs": [
    {
     "name": "stdout",
     "output_type": "stream",
     "text": [
      "[332, 280, 139, 274, 272, 88, 348, 268, 326, 298, 91, 281, 251, 320, 308, 327, 270, 275, 122, 233, 179, 292, 323, 307, 328]\n",
      "25\n"
     ]
    }
   ],
   "source": [
    "print(trueVal3)\n",
    "print(len(trueVal3))"
   ]
  },
  {
   "cell_type": "code",
   "execution_count": 70,
   "metadata": {},
   "outputs": [
    {
     "name": "stdout",
     "output_type": "stream",
     "text": [
      "332    0\n",
      "280    0\n",
      "139    0\n",
      "274    0\n",
      "272    0\n",
      "88     0\n",
      "348    0\n",
      "268    0\n",
      "326    0\n",
      "298    0\n",
      "91     1\n",
      "281    0\n",
      "251    0\n",
      "320    0\n",
      "308    0\n",
      "327    0\n",
      "270    0\n",
      "275    0\n",
      "122    0\n",
      "233    0\n",
      "179    0\n",
      "292    0\n",
      "323    0\n",
      "307    0\n",
      "328    0\n",
      "Name: Cath, dtype: int64\n"
     ]
    }
   ],
   "source": [
    "print(y_test[trueVal3])"
   ]
  },
  {
   "cell_type": "code",
   "execution_count": 71,
   "metadata": {},
   "outputs": [
    {
     "name": "stdout",
     "output_type": "stream",
     "text": [
      "[1 1 1 0 1 1 1 1 1 0 1 1 1 1 1 1 0 1 1 1 1 1 1 1 1 1 1 1 1 1 1 1 1 0 1 1 1\n",
      " 1 0 1 1 1 0 1 1 1 1 1]\n",
      "<class 'numpy.ndarray'>\n",
      "48\n"
     ]
    }
   ],
   "source": [
    "print(l)\n",
    "print(type(l))\n",
    "print(len(l))"
   ]
  },
  {
   "cell_type": "code",
   "execution_count": 72,
   "metadata": {},
   "outputs": [],
   "source": [
    "s = pd.Series(l, rowFinal3.index.values) \n",
    "s.name = 'Cath'"
   ]
  },
  {
   "cell_type": "code",
   "execution_count": 73,
   "metadata": {},
   "outputs": [
    {
     "name": "stdout",
     "output_type": "stream",
     "text": [
      "217    1\n",
      "400    1\n",
      "108    1\n",
      "195    0\n",
      "174    1\n",
      "168    1\n",
      "201    1\n",
      "123    1\n",
      "69     1\n",
      "14     0\n",
      "238    1\n",
      "222    1\n",
      "110    1\n",
      "94     1\n",
      "389    1\n",
      "190    1\n",
      "302    0\n",
      "145    1\n",
      "18     1\n",
      "362    1\n",
      "34     1\n",
      "369    1\n",
      "38     1\n",
      "82     1\n",
      "63     1\n",
      "66     1\n",
      "50     1\n",
      "107    1\n",
      "59     1\n",
      "26     1\n",
      "207    1\n",
      "161    1\n",
      "373    1\n",
      "216    0\n",
      "112    1\n",
      "182    1\n",
      "213    1\n",
      "117    1\n",
      "140    0\n",
      "2      1\n",
      "13     1\n",
      "73     1\n",
      "304    0\n",
      "388    1\n",
      "95     1\n",
      "27     1\n",
      "364    1\n",
      "158    1\n",
      "Name: Cath, dtype: int64\n",
      "48\n"
     ]
    }
   ],
   "source": [
    "print(s)\n",
    "print(len(s))"
   ]
  },
  {
   "cell_type": "code",
   "execution_count": 74,
   "metadata": {},
   "outputs": [
    {
     "name": "stdout",
     "output_type": "stream",
     "text": [
      "     Cath\n",
      "217     1\n",
      "400     1\n",
      "108     1\n",
      "195     0\n",
      "174     1\n",
      "168     1\n",
      "201     1\n",
      "123     1\n",
      "69      1\n",
      "14      0\n",
      "238     1\n",
      "222     1\n",
      "110     1\n",
      "94      1\n",
      "389     1\n",
      "190     1\n",
      "302     0\n",
      "145     1\n",
      "18      1\n",
      "362     1\n",
      "34      1\n",
      "369     1\n",
      "38      1\n",
      "82      1\n",
      "63      1\n",
      "66      1\n",
      "50      1\n",
      "107     1\n",
      "59      1\n",
      "26      1\n",
      "207     1\n",
      "161     1\n",
      "373     1\n",
      "216     0\n",
      "112     1\n",
      "182     1\n",
      "213     1\n",
      "117     1\n",
      "140     0\n",
      "2       1\n",
      "13      1\n",
      "73      1\n",
      "304     0\n",
      "388     1\n",
      "95      1\n",
      "27      1\n",
      "364     1\n",
      "158     1\n",
      "48\n",
      "217    1\n",
      "400    1\n",
      "108    1\n",
      "195    0\n",
      "174    1\n",
      "168    1\n",
      "201    1\n",
      "123    1\n",
      "69     1\n",
      "14     1\n",
      "238    1\n",
      "222    0\n",
      "110    1\n",
      "94     1\n",
      "389    1\n",
      "190    0\n",
      "302    0\n",
      "145    1\n",
      "18     1\n",
      "362    1\n",
      "34     1\n",
      "369    1\n",
      "38     1\n",
      "82     1\n",
      "63     1\n",
      "66     1\n",
      "50     1\n",
      "107    1\n",
      "59     1\n",
      "26     1\n",
      "207    1\n",
      "161    1\n",
      "373    1\n",
      "216    0\n",
      "112    1\n",
      "182    1\n",
      "213    1\n",
      "117    1\n",
      "140    0\n",
      "2      1\n",
      "13     1\n",
      "73     1\n",
      "304    0\n",
      "388    1\n",
      "95     1\n",
      "27     1\n",
      "364    1\n",
      "158    1\n",
      "Name: Cath, dtype: int64\n",
      "48\n"
     ]
    }
   ],
   "source": [
    "s_frame = s.to_frame()\n",
    "rowFinal4_frame = rowFinal4.to_frame()\n",
    "#print(y_test_frame)\n",
    "print(s_frame)\n",
    "#print(type(y_test_frame))\n",
    "#print(type(s_frame))\n",
    "#print(len(y_test_frame))\n",
    "print(len(s_frame))\n",
    "print(rowFinal4)\n",
    "print(len(rowFinal4))\n"
   ]
  },
  {
   "cell_type": "code",
   "execution_count": 75,
   "metadata": {},
   "outputs": [
    {
     "name": "stdout",
     "output_type": "stream",
     "text": [
      "     Cath  ValMatch?\n",
      "217     1       True\n",
      "400     1       True\n",
      "108     1       True\n",
      "195     0       True\n",
      "174     1       True\n",
      "168     1       True\n",
      "201     1       True\n",
      "123     1       True\n",
      "69      1       True\n",
      "14      0      False\n",
      "238     1       True\n",
      "222     1      False\n",
      "110     1       True\n",
      "94      1       True\n",
      "389     1       True\n",
      "190     1      False\n",
      "302     0       True\n",
      "145     1       True\n",
      "18      1       True\n",
      "362     1       True\n",
      "34      1       True\n",
      "369     1       True\n",
      "38      1       True\n",
      "82      1       True\n",
      "63      1       True\n",
      "66      1       True\n",
      "50      1       True\n",
      "107     1       True\n",
      "59      1       True\n",
      "26      1       True\n",
      "207     1       True\n",
      "161     1       True\n",
      "373     1       True\n",
      "216     0       True\n",
      "112     1       True\n",
      "182     1       True\n",
      "213     1       True\n",
      "117     1       True\n",
      "140     0       True\n",
      "2       1       True\n",
      "13      1       True\n",
      "73      1       True\n",
      "304     0       True\n",
      "388     1       True\n",
      "95      1       True\n",
      "27      1       True\n",
      "364     1       True\n",
      "158     1       True\n"
     ]
    }
   ],
   "source": [
    "s_frame['ValMatch?'] = np.where(rowFinal4_frame['Cath'] == s_frame['Cath'], True, False)\n",
    "print(s_frame)"
   ]
  },
  {
   "cell_type": "code",
   "execution_count": 76,
   "metadata": {},
   "outputs": [
    {
     "name": "stdout",
     "output_type": "stream",
     "text": [
      "14\n",
      "222\n",
      "190\n"
     ]
    }
   ],
   "source": [
    "for ind in s_frame.index:\n",
    "    if(s_frame['ValMatch?'][ind].all()==False):\n",
    "        #print(Cath_predict_values.index)\n",
    "        print(ind)\n",
    "    "
   ]
  },
  {
   "cell_type": "code",
   "execution_count": 77,
   "metadata": {},
   "outputs": [
    {
     "name": "stdout",
     "output_type": "stream",
     "text": [
      "222\n",
      "190\n"
     ]
    }
   ],
   "source": [
    "for ind in s_frame.index:\n",
    "    if(s_frame['ValMatch?'][ind].all()==False and s_frame['Cath'][ind].all()==1 ):\n",
    "        print(ind)"
   ]
  },
  {
   "cell_type": "code",
   "execution_count": 78,
   "metadata": {},
   "outputs": [
    {
     "name": "stdout",
     "output_type": "stream",
     "text": [
      "14\n"
     ]
    }
   ],
   "source": [
    "for ind in s_frame.index:\n",
    "    if(s_frame['ValMatch?'][ind].all()==False and s_frame['Cath'][ind].all()==0 ):\n",
    "        print(ind)"
   ]
  },
  {
   "cell_type": "code",
   "execution_count": 80,
   "metadata": {},
   "outputs": [
    {
     "name": "stdout",
     "output_type": "stream",
     "text": [
      "217    1\n",
      "400    1\n",
      "108    1\n",
      "195    0\n",
      "174    1\n",
      "168    1\n",
      "201    1\n",
      "123    1\n",
      "69     1\n",
      "14     1\n",
      "238    1\n",
      "222    0\n",
      "110    1\n",
      "94     1\n",
      "389    1\n",
      "190    0\n",
      "302    0\n",
      "145    1\n",
      "18     1\n",
      "362    1\n",
      "34     1\n",
      "369    1\n",
      "38     1\n",
      "82     1\n",
      "63     1\n",
      "66     1\n",
      "50     1\n",
      "107    1\n",
      "59     1\n",
      "26     1\n",
      "207    1\n",
      "161    1\n",
      "373    1\n",
      "216    0\n",
      "112    1\n",
      "182    1\n",
      "213    1\n",
      "117    1\n",
      "140    0\n",
      "2      1\n",
      "13     1\n",
      "73     1\n",
      "304    0\n",
      "388    1\n",
      "95     1\n",
      "27     1\n",
      "364    1\n",
      "158    1\n",
      "Name: Cath, dtype: int64\n",
      "<class 'pandas.core.series.Series'>\n"
     ]
    }
   ],
   "source": [
    "print(rowFinal4)\n",
    "print(type(rowFinal4))"
   ]
  },
  {
   "cell_type": "code",
   "execution_count": 86,
   "metadata": {},
   "outputs": [
    {
     "name": "stdout",
     "output_type": "stream",
     "text": [
      "[1 1 1 0 1 1 1 1 1 1 1 0 1 1 1 0 0 1 1 1 1 1 1 1 1 1 1 1 1 1 1 1 1 0 1 1 1\n",
      " 1 0 1 1 1 0 1 1 1 1 1]\n",
      "<class 'numpy.ndarray'>\n"
     ]
    }
   ],
   "source": [
    "rowFinal4_array = rowFinal4.to_numpy()\n",
    "print(rowFinal4_array)\n",
    "print(type(rowFinal4_array))"
   ]
  },
  {
   "cell_type": "code",
   "execution_count": 87,
   "metadata": {},
   "outputs": [
    {
     "name": "stdout",
     "output_type": "stream",
     "text": [
      "[1 1 1 0 1 1 1 1 1 0 1 1 1 1 1 1 0 1 1 1 1 1 1 1 1 1 1 1 1 1 1 1 1 0 1 1 1\n",
      " 1 0 1 1 1 0 1 1 1 1 1]\n",
      "<class 'numpy.ndarray'>\n"
     ]
    }
   ],
   "source": [
    "print(l)\n",
    "print(type(l))"
   ]
  },
  {
   "cell_type": "code",
   "execution_count": 90,
   "metadata": {},
   "outputs": [
    {
     "name": "stdout",
     "output_type": "stream",
     "text": [
      "Precision = 0.8928571428571428\n",
      "Recall = 0.8449477351916377\n",
      "Accuracy = 0.9375\n"
     ]
    }
   ],
   "source": [
    "from sklearn.metrics import precision_score, recall_score, accuracy_score\n",
    "print(\"Precision = {}\".format(precision_score(rowFinal4_array, l, average='macro')))\n",
    "print(\"Recall = {}\".format(recall_score(rowFinal4_array, l, average='macro')))\n",
    "print(\"Accuracy = {}\".format(accuracy_score(rowFinal4_array, l)))"
   ]
  },
  {
   "cell_type": "code",
   "execution_count": 91,
   "metadata": {},
   "outputs": [
    {
     "name": "stdout",
     "output_type": "stream",
     "text": [
      "              precision    recall  f1-score   support\n",
      "\n",
      "           0       0.83      0.71      0.77         7\n",
      "           1       0.95      0.98      0.96        41\n",
      "\n",
      "    accuracy                           0.94        48\n",
      "   macro avg       0.89      0.84      0.87        48\n",
      "weighted avg       0.94      0.94      0.94        48\n",
      "\n"
     ]
    }
   ],
   "source": [
    "print(classification_report(rowFinal4_array, l))"
   ]
  },
  {
   "cell_type": "code",
   "execution_count": null,
   "metadata": {},
   "outputs": [],
   "source": []
  },
  {
   "cell_type": "code",
   "execution_count": null,
   "metadata": {},
   "outputs": [],
   "source": []
  }
 ],
 "metadata": {
  "kernelspec": {
   "display_name": "Python 3",
   "language": "python",
   "name": "python3"
  },
  "language_info": {
   "codemirror_mode": {
    "name": "ipython",
    "version": 3
   },
   "file_extension": ".py",
   "mimetype": "text/x-python",
   "name": "python",
   "nbconvert_exporter": "python",
   "pygments_lexer": "ipython3",
   "version": "3.8.5"
  }
 },
 "nbformat": 4,
 "nbformat_minor": 2
}
